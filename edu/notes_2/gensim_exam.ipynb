{
 "cells": [
  {
   "cell_type": "code",
   "execution_count": null,
   "metadata": {
    "collapsed": true
   },
   "outputs": [],
   "source": [
    "# install gensim\n",
    "#!pip install gensim"
   ]
  },
  {
   "cell_type": "code",
   "execution_count": 1,
   "metadata": {
    "collapsed": true
   },
   "outputs": [],
   "source": [
    "import gensim\n",
    "from gensim.models import Word2Vec"
   ]
  },
  {
   "cell_type": "code",
   "execution_count": 2,
   "metadata": {
    "collapsed": false
   },
   "outputs": [
    {
     "data": {
      "text/plain": [
       "'/Users/moodlee/work/project/python_study/edu/notes_2'"
      ]
     },
     "execution_count": 2,
     "metadata": {},
     "output_type": "execute_result"
    }
   ],
   "source": [
    "import os\n",
    "os.getcwd()"
   ]
  },
  {
   "cell_type": "code",
   "execution_count": 3,
   "metadata": {
    "collapsed": true
   },
   "outputs": [],
   "source": [
    "ko_w2v = \"../model/ko/ko.bin\"\n",
    "model = Word2Vec.load(ko_w2v)"
   ]
  },
  {
   "cell_type": "code",
   "execution_count": 4,
   "metadata": {
    "collapsed": false
   },
   "outputs": [
    {
     "data": {
      "text/plain": [
       "[('저녁', 0.8432559967041016),\n",
       " ('밤', 0.7393144965171814),\n",
       " ('새벽', 0.7126439213752747),\n",
       " ('금요일', 0.6616204380989075),\n",
       " ('토요일', 0.655581533908844),\n",
       " ('주말', 0.6473068594932556),\n",
       " ('그날', 0.6318602561950684),\n",
       " ('점심', 0.6233175992965698),\n",
       " ('정오', 0.6203576326370239),\n",
       " ('평일', 0.6187670230865479)]"
      ]
     },
     "execution_count": 4,
     "metadata": {},
     "output_type": "execute_result"
    }
   ],
   "source": [
    "model.wv.most_similar(\"아침\", topn=10)"
   ]
  },
  {
   "cell_type": "code",
   "execution_count": 5,
   "metadata": {
    "collapsed": false
   },
   "outputs": [
    {
     "data": {
      "text/plain": [
       "[('곁', 0.5828189849853516),\n",
       " ('오두막', 0.5823974609375),\n",
       " ('저택', 0.5431487560272217),\n",
       " ('집이', 0.5332655310630798),\n",
       " ('고향', 0.5144202709197998),\n",
       " ('식객', 0.5098599195480347),\n",
       " ('침실', 0.5044941902160645),\n",
       " ('뜰', 0.5022820234298706),\n",
       " ('이웃집', 0.4924403429031372),\n",
       " ('여관', 0.48587560653686523)]"
      ]
     },
     "execution_count": 5,
     "metadata": {},
     "output_type": "execute_result"
    }
   ],
   "source": [
    "model.wv.most_similar(\"집\", topn=10)"
   ]
  },
  {
   "cell_type": "code",
   "execution_count": 6,
   "metadata": {
    "collapsed": false
   },
   "outputs": [
    {
     "data": {
      "text/plain": [
       "[('욕실', 0.7015738487243652),\n",
       " ('화장실', 0.6951706409454346),\n",
       " ('의자', 0.6946734189987183),\n",
       " ('침실', 0.6815198063850403),\n",
       " ('거실', 0.6814087629318237),\n",
       " ('책상', 0.6733649969100952),\n",
       " ('사다리', 0.6648526191711426),\n",
       " ('복도', 0.6474862098693848),\n",
       " ('부엌', 0.6473881006240845),\n",
       " ('욕조', 0.6347655057907104)]"
      ]
     },
     "execution_count": 6,
     "metadata": {},
     "output_type": "execute_result"
    }
   ],
   "source": [
    "model.wv.most_similar(\"침대\", topn=10)"
   ]
  },
  {
   "cell_type": "code",
   "execution_count": 7,
   "metadata": {
    "collapsed": false
   },
   "outputs": [
    {
     "data": {
      "text/plain": [
       "[('괜찮', 0.6849220991134644),\n",
       " ('나쁘', 0.6538200378417969),\n",
       " ('낫', 0.6441531777381897),\n",
       " ('좋아지', 0.6410495042800903),\n",
       " ('높', 0.5870170593261719),\n",
       " ('낮', 0.5831267833709717),\n",
       " ('알맞', 0.5798174142837524),\n",
       " ('많', 0.5643985867500305),\n",
       " ('귀찮', 0.5478721857070923),\n",
       " ('밝', 0.5269372463226318)]"
      ]
     },
     "execution_count": 7,
     "metadata": {},
     "output_type": "execute_result"
    }
   ],
   "source": [
    "model.wv.most_similar(\"좋\", topn=10)"
   ]
  },
  {
   "cell_type": "code",
   "execution_count": 8,
   "metadata": {
    "collapsed": false
   },
   "outputs": [
    {
     "data": {
      "text/plain": [
       "[('학년도', 0.7125025987625122),\n",
       " ('시험', 0.6538838148117065),\n",
       " ('수험생', 0.6100466251373291),\n",
       " ('과목', 0.5902780294418335),\n",
       " ('응시자', 0.5891202092170715),\n",
       " ('합격자', 0.58247971534729),\n",
       " ('신입생', 0.5774190425872803),\n",
       " ('입시', 0.5718998908996582),\n",
       " ('학년', 0.5696055293083191),\n",
       " ('면접', 0.5545176267623901)]"
      ]
     },
     "execution_count": 8,
     "metadata": {},
     "output_type": "execute_result"
    }
   ],
   "source": [
    "model.wv.most_similar(\"수능\", topn=10)"
   ]
  },
  {
   "cell_type": "code",
   "execution_count": 9,
   "metadata": {
    "collapsed": false
   },
   "outputs": [
    {
     "data": {
      "text/plain": [
       "[('스테이지', 0.6362197399139404),\n",
       " ('서브', 0.6200510263442993),\n",
       " ('퀘스트', 0.6069117784500122),\n",
       " ('머신', 0.567715048789978),\n",
       " ('챕터', 0.56211918592453),\n",
       " ('파이널', 0.544884204864502),\n",
       " ('아이템', 0.5357662439346313),\n",
       " ('트릭', 0.5338769555091858),\n",
       " ('루틴', 0.5322302579879761),\n",
       " ('모드', 0.5312427282333374)]"
      ]
     },
     "execution_count": 9,
     "metadata": {},
     "output_type": "execute_result"
    }
   ],
   "source": [
    "model.wv.most_similar(\"미션\", topn=10)"
   ]
  },
  {
   "cell_type": "code",
   "execution_count": 10,
   "metadata": {
    "collapsed": false
   },
   "outputs": [
    {
     "data": {
      "text/plain": [
       "[('액션', 0.6752270460128784),\n",
       " ('게임기', 0.6604887843132019),\n",
       " ('콘솔', 0.6558898687362671),\n",
       " ('슈팅', 0.6405965089797974),\n",
       " ('아케이드', 0.6360284090042114),\n",
       " ('퍼즐', 0.6304599046707153),\n",
       " ('어드벤처', 0.6224750876426697),\n",
       " ('닌텐도', 0.6071302890777588),\n",
       " ('애니메이션', 0.6063960790634155),\n",
       " ('온라인', 0.6031370162963867)]"
      ]
     },
     "execution_count": 10,
     "metadata": {},
     "output_type": "execute_result"
    }
   ],
   "source": [
    "model.wv.most_similar(\"게임\", topn=10)"
   ]
  },
  {
   "cell_type": "code",
   "execution_count": 11,
   "metadata": {
    "collapsed": false
   },
   "outputs": [
    {
     "data": {
      "text/plain": [
       "[('병동', 0.7066843509674072),\n",
       " ('의료원', 0.6499778628349304),\n",
       " ('진료소', 0.6444740295410156),\n",
       " ('클리닉', 0.6172924041748047),\n",
       " ('요양원', 0.5876675844192505),\n",
       " ('보훈', 0.5800164937973022),\n",
       " ('어린이집', 0.5796135663986206),\n",
       " ('입원', 0.5775371789932251),\n",
       " ('병상', 0.5713513493537903),\n",
       " ('의대', 0.5660533905029297),\n",
       " ('자택', 0.5604562759399414),\n",
       " ('산부인과', 0.5573626756668091),\n",
       " ('후송', 0.5569427013397217),\n",
       " ('병원장', 0.556629478931427),\n",
       " ('진료', 0.549238920211792),\n",
       " ('의과', 0.5407394170761108),\n",
       " ('기숙사', 0.5217868089675903),\n",
       " ('여고', 0.5211719274520874),\n",
       " ('백혈병', 0.5149853229522705),\n",
       " ('성심', 0.5140154361724854)]"
      ]
     },
     "execution_count": 11,
     "metadata": {},
     "output_type": "execute_result"
    }
   ],
   "source": [
    "model.wv.most_similar(\"병원\", topn=20)"
   ]
  },
  {
   "cell_type": "code",
   "execution_count": 12,
   "metadata": {
    "collapsed": false
   },
   "outputs": [
    {
     "data": {
      "text/plain": [
       "[('일본', 0.5835654735565186),\n",
       " ('홋카이', 0.502429723739624),\n",
       " ('오사카', 0.4319404661655426),\n",
       " ('동양', 0.4311038851737976),\n",
       " ('미국', 0.41983675956726074),\n",
       " ('도카이', 0.41685935854911804),\n",
       " ('우리나라', 0.41444557905197144),\n",
       " ('대한민국', 0.407632052898407),\n",
       " ('도쿄도', 0.4004289507865906),\n",
       " ('산요', 0.39412790536880493)]"
      ]
     },
     "execution_count": 12,
     "metadata": {},
     "output_type": "execute_result"
    }
   ],
   "source": [
    "model.wv.most_similar(positive=['한국','도쿄'], negative=['서울'], topn=10)"
   ]
  }
 ],
 "metadata": {
  "kernelspec": {
   "display_name": "Python 3",
   "language": "python",
   "name": "python3"
  },
  "language_info": {
   "codemirror_mode": {
    "name": "ipython",
    "version": 3
   },
   "file_extension": ".py",
   "mimetype": "text/x-python",
   "name": "python",
   "nbconvert_exporter": "python",
   "pygments_lexer": "ipython3",
   "version": "3.6.0"
  }
 },
 "nbformat": 4,
 "nbformat_minor": 2
}
