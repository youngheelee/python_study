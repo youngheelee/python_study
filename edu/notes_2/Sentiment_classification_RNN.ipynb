{
 "cells": [
  {
   "cell_type": "markdown",
   "metadata": {},
   "source": [
    "# UMICH SI650 - Sentiment Classification\n",
    "- https://www.kaggle.com/c/si650winter11/data"
   ]
  },
  {
   "cell_type": "code",
   "execution_count": 1,
   "metadata": {
    "collapsed": true
   },
   "outputs": [],
   "source": [
    "# # nltk: Natural Language Toolkit\n",
    "# !pip install nltk"
   ]
  },
  {
   "cell_type": "code",
   "execution_count": 1,
   "metadata": {},
   "outputs": [
    {
     "name": "stderr",
     "output_type": "stream",
     "text": [
      "Using TensorFlow backend.\n"
     ]
    }
   ],
   "source": [
    "from keras.layers.core import Activation, Dense, Dropout, SpatialDropout1D\n",
    "from keras.layers.embeddings import Embedding\n",
    "from keras.layers.recurrent import LSTM\n",
    "from keras.models import Sequential\n",
    "from keras.preprocessing import sequence\n",
    "from sklearn.model_selection import train_test_split\n",
    "import collections\n",
    "import matplotlib.pyplot as plt\n",
    "import nltk\n",
    "import numpy as np\n",
    "import os\n",
    "%matplotlib inline"
   ]
  },
  {
   "cell_type": "markdown",
   "metadata": {},
   "source": [
    "### Hyperparameters"
   ]
  },
  {
   "cell_type": "code",
   "execution_count": 2,
   "metadata": {},
   "outputs": [],
   "source": [
    "DATA_DIR = \"./data\"\n",
    "\n",
    "MAX_FEATURES = 2000\n",
    "MAX_SENTENCE_LENGTH = 40\n",
    "\n",
    "EMBEDDING_SIZE = 128\n",
    "HIDDEN_LAYER_SIZE = 64\n",
    "BATCH_SIZE = 32\n",
    "NUM_EPOCHS = 10"
   ]
  },
  {
   "cell_type": "code",
   "execution_count": 3,
   "metadata": {},
   "outputs": [],
   "source": [
    "# nltk.download('punkt')"
   ]
  },
  {
   "cell_type": "markdown",
   "metadata": {},
   "source": [
    "### Read the data\n",
    "- 여기서는 학습데이터의 문장 길이, 단어 수를 체크"
   ]
  },
  {
   "cell_type": "code",
   "execution_count": 4,
   "metadata": {},
   "outputs": [],
   "source": [
    "# Read training data and generate vocabulary\n",
    "maxlen = 0\n",
    "word_freqs = collections.Counter()\n",
    "num_recs = 0\n",
    "ftrain = open(os.path.join(DATA_DIR, \"umich_sentiment.txt\"), \n",
    "              'r', \n",
    "              encoding='utf-8')\n",
    "for line in ftrain:\n",
    "    label, sentence = line.strip().split(\"\\t\")\n",
    "    words = nltk.word_tokenize(sentence.lower())\n",
    "#     words = sentence.lower().split(' ')\n",
    "    if len(words) > maxlen:\n",
    "        maxlen = len(words)\n",
    "    for word in words:\n",
    "        word_freqs[word] += 1\n",
    "    num_recs += 1\n",
    "ftrain.close()"
   ]
  },
  {
   "cell_type": "code",
   "execution_count": 5,
   "metadata": {},
   "outputs": [
    {
     "name": "stdout",
     "output_type": "stream",
     "text": [
      "42\n",
      "2326\n"
     ]
    }
   ],
   "source": [
    "# Get some information about our corpus\n",
    "print(maxlen)            # 42\n",
    "print(len(word_freqs))   # 2313"
   ]
  },
  {
   "cell_type": "markdown",
   "metadata": {},
   "source": [
    "### Preprocessing the data\n",
    "- 기존에 등장하지 않는 어휘가 등장했을 때, 그리고 zero-padding이 필요한 것을 고려하여 **UNK**와 **PAD**라는 표현을 vocabulary에 포함하고 인덱스를 부여"
   ]
  },
  {
   "cell_type": "code",
   "execution_count": 6,
   "metadata": {},
   "outputs": [],
   "source": [
    "vocab_size = min(MAX_FEATURES, len(word_freqs)) + 2\n",
    "word2index = {x[0]: i+2 for i, x in \n",
    "                enumerate(word_freqs.most_common(MAX_FEATURES))}\n",
    "word2index[\"PAD\"] = 0\n",
    "word2index[\"UNK\"] = 1\n",
    "index2word = {v:k for k, v in word2index.items()}"
   ]
  },
  {
   "cell_type": "code",
   "execution_count": 7,
   "metadata": {},
   "outputs": [
    {
     "name": "stdout",
     "output_type": "stream",
     "text": [
      "dict_keys(['i', ',', '.', 'the', 'and', '!', 'harry', 'vinci', 'da', 'brokeback', 'code', 'mountain', 'potter', '...', 'love', 'is', 'a', 'was', 'mission', 'impossible', 'awesome', 'like', 'it', 'to', 'movie', 'that', \"'s\", 'because', 'sucks', 'hate', 'sucked', 'so', 'as', 'my', '``', 'much', 'of', 'really', 'movies', 'stupid', 'you', 'down', 'but', 'we', 'be', 'with', 'just', 'one', 'know', 'potter..', 'suck', 'out', '3', 'who', '/', 'or', 'am', 'loved', 'want', 'into', 'which', 'right', 'for', 'an', \"n't\", 'this', 'me', ':', 'are', 'think', 'not', 'how', 'if', 'depressing', 'people', 'his', 'would', 'up', 'reading', 'why', 'series', 'there', 'in', 'only', 'fucking', 'terrible', 'she', 'oh', 'story', 'being', '..', 'left', 'ok', 'guy', 'here', 'start', 'felicia', '(', 'have', 'book', 'about', 'beautiful', 'good', 'also', 'too', 'on', 'went', 'do', 'read', 'at', 'then', 'can', 'saw', 'first', 'by', 'tom', 'more', 'thought', 'most', '2', 'liked', 'way', 'from', 'absolutely', 'still', 'horrible', 'well', 'time', 'got', 'awesome..', 'he', 'when', 'big', 'heard', 'ever', 'were', 'what', 'watch', 'film', 'going', 'great', 'better', 'such', 'things', 'does', 'last', 'said', '?', 'ca', '=', 'yeah', 'gay', 'boring', 'both', 'watching', 'again', 'wait', 'making', 'never', 'man', 'same', \"'re\", '’', 'these', 'excellent', 'friday', 'friends', 'always', 'person', 'sucked..', 'opinion', 'anyone', 'na', 'cool', 'him', 'says', 'cock', 'side', 'make', 'rocks', 'take', 'anyway', 's', 'fun', 'mom', 'where', 'worth', 'around', 'either', 'knows', 'thats', 'luv', 'wanted', 'dad', 'care', 'freakin', 'character', 'daniel', 'community', 'main', 'place', 'hates', 'review', 'b', 'crazy', 'stand', 'begin', 'turned', 'soo', 'gon', 'reality', 'bitch', 'table', 'type', 'dies', 'cowboy', 'hat', 'snuck', 'awards', 'acceptable', 'becoming', 'past', 'needs', 'head', 'horrible..', 'seen..', 'desperately', \"love'the\", 'lubb', 'hoot', 'silent', 'hill', 'coz', 'hella', 'goin', 'sentry', 'station', 'bonkers', 'cleaning', 'grabs', 'keys', 'dash', 'kirsten', 'leah', 'kate', 'escapades', 'joining', 'deep', 'profound', 'differently', 'serious', 'count', 'catcher', 'tye', 'jane', 'eyre', 'virgin', 'suicides', \"'yeah\", 'acne', \"'..\", 'dudeee', 'homosexuality', 'hung', 'kelsie', 'combining', 'gary', 'gin', 'zen', 'letting', '2.5', 'stars', 'quiz', 'bye..', 'retarted', 'black', 'outshines', 'material', 'plain', 'likes', 'dragged', 'draco', 'malfoy', 'trousers', 'hips', 'throat', 'vigor', 'whimpering', 'noises', 'panting', 'groaning', 'blonds', 'rock-hard', 'aching', 'wotshisface', 'slap', 'helped', 'bobbypin', 'insanely', 'laughed', 'jokes..', 'sit', 'mtv', 'reminded', 'despised', 'see', ')', 'iii', 'hated', 'all', \"'m\", 'did', 'pretty', 'though', 'evil', 'even', 'ass', 'books', 'say', 'they', '*', 'go', 'had', 'lot', 'now', 'get', 'other', 'will', 'after', 'cruise', 'very', 'some', '--', '<', 'its', 'watched', 'amazing', 'best', 'kinda', 'than', 'actually', 'no', 'balls', 'seen', 'already', 'made', 'awful', 'thing', 'has', 'may', 'two', 'sad', 'second', 'since', 'lol', 'mountain..', \"'ve\", \"'d\", 'over', 'off', 'us', 'new', 'miss', 'far', \"'ll\", 'been', 'enjoy', 'night', '&', '[', 'tell', ']', 'shit', 'should', \"'\", 'three', 'everyone', 'action', 'theme', 'before', 'your', 'real', 'could', 'talk', 'crash', 'those', 'code..', 'enjoyed', 'yet', 'having', 'looks', 'while', 'bad', 'them', 'life', '>', 'try', 'sucks..', 'course', 'something', 'wrong', 'hey', 'interesting', 'times', 'totally', 'mean', 'talking', 'else', 'feel', 'little', 'sure', 'thinking', 'glad', 'anything', 'world', 'demons', 'bit', 'quite', 'seeing', 'finished', 'lost', 'our', 'movie..', 'x-men', 'day', 'back', 'almost', 'long', 'year', 'fan', 'fact', 'freaking', 'school', 'picture', 'might', 'kids', 'okay', 'saying', 'fandom', 'every', 'much..', 'told', 'cowboys', 'god', '-', 'crappy', 'sucking', 'angels', 'few', 'personally', 'crap', 'probably', 'im', 'sick', 'must', 'their', 'until', 'end', 'kind', 'novel', 'luck', 'officially', 'tonight', 'doing', 'least', 'stories', 'theater', 'show', 'money', 'used', 'culture', 'lord', 'rings', '”', 'apparently', 'through', 'news', 'won', 'give', 'bogus', 'inaccurate', 'hear', 'mother', 'own', 'different', 'girl', 'idea', 'telling', 'music', 'omg', 'damn', 'half', 'week', 'wan', 'too..', 'come', 'jesus', 'move', 'funny', 'days', '3..', 'played', 'finally', 'fell', 'song', 'classes', 'fire', 'films', 'yes', 'comes', 'children', 'club', 'fuck', 'sexy', 'part', 'someone', 'ta', 'incredibly', 'once', 'decided', 'hope', 'oscar', 'shitty', 'ass..', 'majorly', 'major', 'john', 'woo', '$', 'georgia', 'her', 'board', 'nearly', 'hollywood', ';', 'religious', 'heart', 'hard', 'dan', 'brown', 'lit', 'absurd', 'next', 'books..', 'pages', '+', 'besides', 'myself', 'many', 'came', 'agree', 'hell', 'playing', 'hedge', 'given', 'kick', 'stayed', 'update', 'sort', 'fat', 'rent', 'looking', 'nothing', 'ten', 'top', 'gun', 'stop', 'cuz', 'anyways', 'ask', 'wondering', 'except', 'rather', 'let', 'especially', 'between', 'shows', 'stuff', 'minutes', 'example', 'goblet', '�', 'eragon', '6th', 'wish', 'write', 'loves', 'm', 'deal', 'fanfiction', 'any', '4', 'win', 'gorgeous', 'level', '_', 'case', 'comment', 'felt', 'none', 'college', 'death', 'halloween', 'need', 'gift', 'nc-17', 'taking', 'food', 'sorry', 'along', 'during', 'hands', 'short', 'thank', 'jake', 'ban', 'critics', 'jack', 'cried', 'racism', 'better..-we', 'worthless', 'audrey', 'tautou', 'work', 'erm', 'looked', 't', 'passion', 'donkey', 'suck..', 'stinks', 'conclusion', 'true', 'lame', 'whole', 'god-awful', '“', 'bullshit', 'rant', 'evil..', 'dont', 'mouth', 'live', 'extremely', 'disliked', 'hold', 'buy', 'ive', 'turn', 'figures', 'old', 'takes', 'normal', 'biased', 'able', 'equal', 'nor', 'cold', 'page', 'awesomest', 'sounds', 'aaron', 'knew', 'took', 'book..', 'recently', 'theaters', 'against', 'religion', 'together', 'whatever', 'lah', 'soon', 'ones', 'hanks', 'sooo', 'hating', 'awesomeness', 'hardcore', 'fireworks', '‘', 'accompaniment', 'whistles', 'bangs', 'colourfully', 'sky', 'events', 'drive', 'haunt', '-and', 'yea', 'fall', 'class', 'trailers', 'catch', 'flick', 'saturday', 'job', 'ticket', '7', 'run', 'sing', 'makes', 'cute', 'problem', 'geek', 'tickets', 'definitely', 'instead', 'btw', 'x', 'meeting', 'party', 'special', 'ya', 'definately', 'hide', 'feeling', 'hot', 'third', 'scene', 'chris', 'showing', 'pictures', 'guys', 'putting', 'pocket', 'hero', 'tv', 'although', 'tc', 'issues', 'play', 'impossible..', 'joke', 'girls', 'maybe', 'politics', 'house', 'proud', 'ron', 'favourite', 're-reading', 'half-blood', 'prince', 'final', 'shoes', 'stone', 'j.', 'k.', 'rowling', 'strangely', 'hp', 'fanfic', 'kid', 'perhaps', 'often', 'decent', 'enough', 'suppose', 'pop', 'funniest', 'costumes', 'la', 'narnia', 'disney', 'eating', 'fault', 'empty', 'dream', 'body', 'nerd', 'ruined', 'fabulous', 'scar', 'bought', '–', 'adult', 'adorable', 'everything', \"y'all\", 'author', 'friend', 'student', 'forgotten', 'dragons', 'hogwarts', 'emma', 'watson', 'brilliant', '~', 'popular', 'craze', 'word', 'fic', 'vampire', 'n', 'sivullinen', 'requested', 'het', 'quizzes', 'future', 'till', 'simply', 'writing', 'sense', 'conquering', 'friendships', 'formed', 'related', 'christmas', 'whether', 'stopped', 'months', 'idk', 'honor', 'cry', 'asking', 'queer', 'heath', 'dick', 'yesterday', 'asian', 'beautiful..', 'copy', 'choice', 'kiss', 'unbelievably', '©', 'asleep', 'mentioned', 'capote', 'mention', 'ang', 'u', 'understand', 'industry', 'rest', 'acting', 'deserved', 'full', 'carefully', 'happy', 'generally', 'score', 'white', 'mainstream', 'challenge', 'actor', 'super', '-we', 'written', 'expected', 'question', 'beat', 'boring..', 'piece', 'butt', 'code-sucked', 'loathe', 'lie', 'favorite', 'everybody', 'hoover', 'less', 'hopefully', 'coming', 'name', 'due', 'weekend', 'couple', 'didnt', 'compared', 'use', 'reaction', 'royally', 'attempt', 'johnny', 'article', 'draw', 'christian', 'beans', 'wo', 'getting', 'tho', 'chinese', 'nice', 'mi3', 'please', 'tired', 'franchise', 'ran', 'cocktail', 'phillip', 'hoffman', 'laid', 'egg', 'cringe', 'whenever', 'respect', 'lousy', 'point', 'fit', 'aka', 'dumb', 'actual', 'blame', 'ending', 'dementors', 'costume', 'tea', 'infuser', 'die', 'sometimes', 'wesley', 'captain', 'picard', 'douche', 'tragic', 'bible', 'libraries', 'witchcraft', 'color', 'dance', 'obnoxious', 'thinks', 'it..', 'thousand', 'ultimate', 'marvel', 'education', 'exquisite', 'marcia', 'gaither', 'teaches', 'wiccanism', 'controversy', 'working', 'overall', 'lords', 'soul', 'equally', 'ago', 'opened', 'dictate', 'reply', 'cut', 'mirror', 'speaking', 'home', 'goth', 'academy', 'gayness', 'tried', '10', 'tale', '\\x80', '\\x99', 'rented', 'twist', 'record', 'murderball-immediately', 'robbed', 'favor', 'dislike', 'shittiest', 'clive', 'cussler', 'relic', 'plausible', 'ultimatly', 'seem', 'exaggeration', 'midnight', 'wal-mart', 'kite', 'runner', 'light', 'radio', 'mind', 'slash', 'race', 'disappointed', '#', '8230', 'backtory', 'various', 'historical', 'scifi', 'ian', 'mckellen', 'husband', 'joe', 'bridget', 'jones', 'appeals', 'chick', 'arenas', 'genre', 'explore', 'novels', 'soundtrack', 'pleased', 'open-mindedness', 'enjoyment', 'reads', 'ripping', 'acoustic', 'neither', 'amazingly', 'possibly', 'figure', '286', 'seriously', 'probable', 'fr', 'code-that', 'raises', 'theological', 'questions', '\\x92', 'tour', 'inside', '3333', 'onto', 'angel', 'code-illustrated', 'edition', 'thriller', \"code'it\", 'code-very', 'angle', 'friggin', '30', 'undercover', 'outta', 'drowining', 'lynn', 'jon', 'code-other', 'luau', 'gasp', 'protests', 'share', 'idiots', 'dating', 'sister', 'admired', 'bachelor', 'beyond', 'tome', 'unauthorized', 'deals', 'inspired', 'ridiculous', 'panties', 'bunch', 'heresies', 'blashpemies', 'allegedly', 'contains', 'decide', 'ti', 'hand', 'hooked', 'melbourne', 'hahash', 'tooo', 'honestly', 'awesome-good', 'ur', 'tennis', 'tournament..', 'america', 'supporting', \"book'da\", 'finshed', 'comprehend', 'explain', 'power', 'ps', 'exciting', 'wow', 'updated', 'hammy', 'rocks..', 'unpredictable', 'spy', 'scenario', 'astonishingly', 'free', 'three-generation', 'team', 'infiltrate', 'hour', 'doors', 'open', 'wicked', '10.9', 'gym', 'suspenseful', 'plus', 'attached', 'clarksville', 'summer', 'grown', 'teevee', 'cant', 'eek', 'rolled', 'fallon', 'convo', 'daddy', 'speaker', 'exelent', 'game', 'jamie', '8', 'lil', 'bro', 'tied', 'mall', 'shopping', 'wacked', 'however', 'matters', 'pressing', 'alarm', 'codes', 'fortress..', 'excersizing', 'funner', 'latest', 'kicked', 'period', 'characterization', 'effects', 'pretending', 'moives', 'mindless', 'tech', 'small', 'cars', 'etc', 'surprisingly', 'asshole', '1', 'sunday', 'tests', 'afterschool', 'relaxed', 'ate', 'margaritas', 'w', 'emily', 'despise', 'scientology', 'crusade', 'stinkin', '-ike..', 'holy', 'fyi-mission', 'brazil', 'harrison', 'viewings', 'vic', 'bday', 'impossible-3..', 'screening', 'awesomely', 'um', 'trece', 'bet', 'blows', 'exception', 'eh', 'experience', 'camp', 'setting', 'land', 'places', 'hand..', 'spin', 'middle', 'tan', 'baby', 'possum', 'vault', 'kelse', 'spontaneously', '10pm', '~..', 'erin', 'firstly', 'lot..', 'settin', 'halls', 'partyin', 'weekends', 'clubbin', 'lunch', 'causing', 'disruption', 'wherever', 'dart', 'song..', 'considered', 'hooker', 'gay-scientologist-mission', 'orig', 'alright', 'halle', 'barry', 'hugh', 'jackson', 'jessica', 'dumb..', 'frenzied', 'phone', 'calls', 'laura', 'garrett', 'abrams', 'reason', 'explosions', 'straight', 'row', 'magic', 'today', 'rocked', 'preview', 'note', 'davinci', 'quip', 'v', 'freak', 'pull', 'style', 'th', 'bond', 'kicking', 'throw', 'jail', 'break', 'reader', 'excited', 'lines', 'whom', 'shadeslayer', 'truth', 'philosopher', 'paper', 'entitled', 'twilight', 'unfortunate', 'tons', 'clickfive', 'cake', 'texts-fantasy', 'obviously-is', 'criticized', 'oversimplifying', 'struggle', 'vs.', 've', 'thick', 'burnt', 'heavy', 'enjoying', 'sawyer', 'hookup', 'rereading', 'picky', '1st', '2nd', 'clearly', 'planned', 'biggie', 'admiring', 'sisters', 'collection', 'waited', 'planning', '2007', 'unfortunately', 'japenese', 'food..', 'undoubtedly', 'purchase', 'dvd', 'walks', 'beach', 'oreos', 'ootp', 'sixth', 'desperate', 'discovered', 'dork', 'found', 'german..', 'primary', 'bits', 'happiness', 'usually', 'form', 'storytimes', 'occasional', 'talks', 'julia', 'marisa', 'spec', 'candy', 'requim', 'christopher', 'creed', '@', 'shraddha', 'lotr', 'superman', 'budget', 'rare', 'books-not', 'bootlegged', 'radcliffe', 'those..', 'completely', 'poem', 'chance', 'prize', 'equus', 'measure', 'march', '31st', 'artemis', 'fowl', 'colony', 'eoin', 'colfer', '385', 'young', 'near', 'realize', 'mocking..', \"freagin'love\", 'magical', 'lore', 'personaly', 'encourage', 'wholesome', 'sakes', 'scarf', 'christmas..', 'kept', 'g', 'lilo', 'stitch', 'barnyard', 'discuss', 'theories', 'sorcerer', 'low', 'discussing', 'learn', 'appeal', 'date', 'jamaica', 'queens..', 'earrings', 'goes', 'adore', 'thanks', '33', 'task', 'achieved', 'icons..', 'reasons', 'belong', 'grey', 'anatomy', 'dedicated', 'friday-harry', 'feast', 'spoke', 'mrs.', 'cowan', 'briefly', 'independent', 'study', 'lazy', 'semester', 'dorks', 'delicious', 'away', 'enjoys', 'in-depth', 'conversations', 'subjects', 'interested', 'intrigued', 'kick-ass', 'robe', 'lends', 'itself', 'nicely', 'deemed', 'gavin', 'degraw', 'beatles', 'drawing..', 'fantasy', 'hall', 'kaka..', 'television', 'screens', 'perfect', 'literary', 'version', 'adaptation', 'grips', 'state', 'dress', 'find', 'anywhere', 'town', 'veil', 'darkness', 'oceans', 'phoenix', 'total', '517,648', 'counting', 'fairly', 'drawn', 'deciding', '7th', '-..', 'xd', 'anime', 'manga', 'grow', 'rehearsal', 'invisibility', 'cloak', 'folows', 'machine', 'lets', 'portuguese', 'spanish', '200', 'you..', 'explaination', 'travel', 'packs', 'animated', 'emotes', 'keep', 'gettting', 'fits', '5', 'cast', 'spells', 'fair', 'lower', 'shade', 'others', 'book-i', 'posts', 'pirates', 'caribbean', 'sarcastic', 'quirky', 'humor', 'otp', 'shipping', 'winter', 'specifically', 'tree', 'snowing', 'outside', 'devastate', 'included', 'coloured', 'intellectual', 'debates..', 'irrespective', 'writes', 'legacy', 'grand', 'finale', 'lives', 'hype', 'younger', 'sis', 'theres', 'avatar', 'sports', 'messiah', 'complex', 'police', 'longer', 'ones..', 'intense', 'phase', 'icons', 'literature', 'val', 'starring', 'performance', 'titus', 'rep', 'explains', 'oddly', 'cover', 'chronological', 'ground', 'unexpected', 'basically', 'diversity', 'shout', 'esther', 'calling', 'screenplay', 'mph', 'sale', 'expo', 'gosh', 'lol..', 'whereas', 'brother', 'cousins', 'parents', 'amazing..', 'mountain-watched', 'twice', 'genres', 'eye', 'gn', 'gl', 'important', 'hyped', 'mountain-beautiful', 'sweeping', 'moving', 'bbm', 'rps', 'figured', 'interest', 'picturesque', 'quaintly', 'attractive', 'impressive', 'tourist', 'horses', 'hugged', 'wranglers', 'o', 'story-i', 'riding', 'giants', 'napoleon', 'dynamite', 'silly', 'pc', 'check', 'days..', 'spectacularly', 'confess', 'judgement', '16', '£', 'hill-form', \"ain't..\", 'springer', '-yes', 'supper', 'latter', 'tiny', 'pink', 'shame', 'transamerica', 'apart', 'lee..', 'film..', 'defensive', 'positions', 'gays', 'wonderful', '33..', 'discussed', 'abortion', 'south', 'dakota', 'strip', 'sexual', 'crash-and', 'tells', 'easy', 'wondered', 'happened', 'ennis', 'spend', 'gayer', 'picnic', 'basket', 'haunted', 'mountain-hard', 'ignore', 'photography', 'madly', 'p.', 's.', 'change', 'background', 'tragically', 'romantic', 'heartbraking', 'dearly', 'truly', 'ashamed', 'wept', 'five', 'afterwards', '-it', 'done', 'success', 'derek', 'heartbreaking', \"mountain'is\", 'matter', 'lee', 'gyllenhaal', 'leder', 'mrs', 'yip', 'score-brokeback', 'changes', 'receive', 'director', 'mountain-this', 'finish', 'random', 'thoughts', 'bitter', 'bound', 'wins', 'heteronormativity', 'dissapointed', 'surprised', 'packed', 'sceneries', '700', 'million', 'tomorrow', 'yahoo', 'games', 'truly-awful', 'code-themed', 'skin', 'chessboard', 'disappointing', 'fabricated', 'christianity', 'bolsters', 'arguments', 'england', 'slow', 'threw', 'phenomenon', 'congrats', 'beating', 'jay', 'rickards', 'finals', 'poorly', 'worst', 'rachel', 'nans', 'libarian', \"hated'the\", 'turner', 'btw..', 'forget', 'paul', 'bentlys', 'cool..', 'timings', 'ended', 'fer', 'runaway', 'vacation', 'conversation', 'professors', 'overslept', 'jenn', 'later', 'ballz', 'amã', 'forgot', '\\\\', 'nd', 'x3-good', 'nacho', 'libre-sucked', 'cars-good', 'hedge-good', 'hank', 'smoking-had', 'moments', 'bored', 'coherent', 'uh', 'usage', 'phrase', 'dogfucking', 'retarded', 'worse', 'started', 'gathered', 'lamest', 'cinema', 'lama', 'aimee', 'fun..-the', '.-sean', 'supportive', 'friend..-indian', 'reservations', 'lately', 'hanging', 'happen', 'sometime..', 'holding', 'signs', 'christ', 'project', 'witha', 'blasphying', 'wide', 'drove', 'bayers', 'lake', 'dramatic', 'supposed', 'hello', 'cos', 'effort', 'mang', 'latin', 'around..', 'anyhow', 'rofls', 'howard', 'google', 'urls', 'songs', 'lucky', 'refusing', 'public', 'place-there', 'imo', 'mood', 'shop', 'quick', '..-have', 'smoked', 'week..-have', 'consumed', 'meat', 'week..-da', 'sucked..-love', 'place..-broke', 'ideas', 'sucky', '.-wish', 'crack', 'motherfuckers', 'tonite..-da', 'balls..-poseidon', 'balls..-hooray', 'memoirs', 'geisha', 'kelsey', 'oceanwalk', 'rockets', 'bless', 'linked', 'symantec', 'suing', 'microsoft', 'street', 'without', 'touching', 'delayed', 'banning', 'omen', 'muahahaahahah', 'weeeellllllll', 'therefor', 'frakking', 'media', 'seems', 'thirdly-the', 'post', 'add', 'save', 'showcasing', 'aniwae', 'men', 'today..', 'trip', '007..', 'freshman', 'itz', 'altogether', 'theatan', 'energy', 'field', 'eat', 'dim', 'sum', 'whos', '2..', 'extent', 'man..', 'rv', 'predictable', 'lame..', 'iii-sucks', 'big-time', 'weird', 'tomkat', 'back.-jill', 'staying', 'weekend.-mission', 'd', 'loathed', 'involving', 'badness', 'increasing', 'exponentially', 'imagine', 'sold', 'flat', 'shipmates', 'burbank', 'calif.', 'ap', '-brooke', 'shields', 'publicly', 'apologized', 'career', 'including', 'war', 'worlds', 'atrocious', 'hahaha', 'search', 'boycotting', 'mybutthole', 'yuh', 'nasy', 'c.', 'joiners', 'me..', '9am', 'aside', 'seymore', 'nifty', 'gadgets', 'wif', 'haha', 'credit', 'insane', 'listen', 'kanye', 'west', 'remix..', 'good..', 'sequels', 'facing', 'richard', 'simmons..', 'closet', 'blogbacklinktitle', 'blogbacklinksnippet', 'seymour', 'simon', 'pegg', '^', 'prediction', 'correct', 'boycott', 'impossible-tom', 'talkin', 'bout', 'mi', 'agreed', '.-mission', 'around..-the', 'cobequid', 'health', 'center', 'soooooooo', 'vs', 'et', 'al', 'useless', 'realized', 'chunnel', 'fears', 'scared', 'regardless..', 'track', 'dumbest', 'futile', 'began', 'teri', '12', 'interview', 'anne', 'rice', 'attraction', 'reopened', 'release', 'unable', 'ignorant', 'villains', 'creatures', 'called', 'monthly', 'mad', 'vintage', 'silver', 'shaped', 'frog', 'idiot', 'kenley', 'decides', 'plastic', 'axes', 'amazes', 'afraid', 'shit-i', 'pastings', 'mpreg', 'archive', 'section', 'starting', 'deluded', 'loose', 'allegory', 'wants', 'local', 'schools', 'leads', 'according', 'images', 'lin', 'pale', 'comparrison', 'overlooking', 'hair', 'trivia', 'eyes', 'absolute', 'denial', 'general', 'involved', '*..', 'dumbass', 'highly', 'inappropriate', 'headmistress', 'office', 'melandry', 'fuckers', 'shut', 'ripper', 'following', 'clips', 'featured', 'believably', 'judging', 'generated', 'gives', 'returning', 'spite', 'knowing', 'clit', \"was'harry\", 'everytime', \"said'harry\", 'outnumbered', \"saying'harry\", 'rules', 'anax', 'rife', 'faked', 'PAD', 'UNK'])\n"
     ]
    }
   ],
   "source": [
    "print(word2index.keys())"
   ]
  },
  {
   "cell_type": "code",
   "execution_count": 8,
   "metadata": {},
   "outputs": [],
   "source": [
    "# 실제 학습데이터를 위에서 부여한 인덱스의 sequence로 변경\n",
    "X = np.empty((num_recs, ), dtype=list)\n",
    "y = np.zeros((num_recs, ))\n",
    "i = 0\n",
    "ftrain = open(os.path.join(DATA_DIR, \"umich_sentiment.txt\"), 'r', encoding='utf-8')\n",
    "for line in ftrain:\n",
    "    label, sentence = line.strip().split(\"\\t\")\n",
    "    words = nltk.word_tokenize(sentence.lower())\n",
    "    seqs = []\n",
    "    for word in words:\n",
    "        if word in word2index:\n",
    "#         if word2index.has_key(word):\n",
    "            seqs.append(word2index[word])\n",
    "        else:\n",
    "            seqs.append(word2index[\"UNK\"])\n",
    "    X[i] = seqs\n",
    "    y[i] = int(label)\n",
    "    i += 1\n",
    "ftrain.close()"
   ]
  },
  {
   "cell_type": "code",
   "execution_count": 9,
   "metadata": {},
   "outputs": [
    {
     "name": "stdout",
     "output_type": "stream",
     "text": [
      "[5, 10, 9, 12, 101, 17, 48, 22, 4]\n",
      "1.0\n"
     ]
    }
   ],
   "source": [
    "print(X[0])\n",
    "print(y[0])"
   ]
  },
  {
   "cell_type": "code",
   "execution_count": 10,
   "metadata": {},
   "outputs": [
    {
     "name": "stdout",
     "output_type": "stream",
     "text": [
      "[  0   0   0   0   0   0   0   0   0   0   0   0   0   0   0   0   0   0\n",
      "   0   0   0   0   0   0   0   0   0   0   0   0   0   5  10   9  12 101\n",
      "  17  48  22   4]\n"
     ]
    }
   ],
   "source": [
    "# Pad the sequences (left padded with zeros)\n",
    "X = sequence.pad_sequences(X, maxlen=MAX_SENTENCE_LENGTH)\n",
    "\n",
    "print(X[0])"
   ]
  },
  {
   "cell_type": "code",
   "execution_count": 11,
   "metadata": {},
   "outputs": [
    {
     "name": "stdout",
     "output_type": "stream",
     "text": [
      "(5668, 40) (1418, 40) (5668,) (1418,)\n"
     ]
    }
   ],
   "source": [
    "# Split input into training and test\n",
    "Xtrain, Xtest, ytrain, ytest = train_test_split(X, y, test_size=0.2, \n",
    "                                                random_state=42)\n",
    "print(Xtrain.shape, Xtest.shape, ytrain.shape, ytest.shape)"
   ]
  },
  {
   "cell_type": "markdown",
   "metadata": {},
   "source": [
    "### Build the model"
   ]
  },
  {
   "cell_type": "code",
   "execution_count": 12,
   "metadata": {},
   "outputs": [
    {
     "name": "stdout",
     "output_type": "stream",
     "text": [
      "WARNING:tensorflow:From /Users/youngheelee/anaconda3/lib/python3.7/site-packages/tensorflow/python/framework/op_def_library.py:263: colocate_with (from tensorflow.python.framework.ops) is deprecated and will be removed in a future version.\n",
      "Instructions for updating:\n",
      "Colocations handled automatically by placer.\n",
      "WARNING:tensorflow:From /Users/youngheelee/anaconda3/lib/python3.7/site-packages/keras/backend/tensorflow_backend.py:3445: calling dropout (from tensorflow.python.ops.nn_ops) with keep_prob is deprecated and will be removed in a future version.\n",
      "Instructions for updating:\n",
      "Please use `rate` instead of `keep_prob`. Rate should be set to `rate = 1 - keep_prob`.\n"
     ]
    }
   ],
   "source": [
    "model = Sequential()\n",
    "model.add(Embedding(vocab_size, EMBEDDING_SIZE, \n",
    "                    input_length=MAX_SENTENCE_LENGTH))\n",
    "model.add(LSTM(HIDDEN_LAYER_SIZE, dropout=0.2, recurrent_dropout=0.2))\n",
    "model.add(Dense(1))\n",
    "model.add(Activation(\"sigmoid\"))\n",
    "\n",
    "model.compile(loss=\"binary_crossentropy\", optimizer=\"adam\", \n",
    "              metrics=[\"accuracy\"])"
   ]
  },
  {
   "cell_type": "code",
   "execution_count": 13,
   "metadata": {},
   "outputs": [
    {
     "name": "stdout",
     "output_type": "stream",
     "text": [
      "WARNING:tensorflow:From /Users/youngheelee/anaconda3/lib/python3.7/site-packages/tensorflow/python/ops/math_ops.py:3066: to_int32 (from tensorflow.python.ops.math_ops) is deprecated and will be removed in a future version.\n",
      "Instructions for updating:\n",
      "Use tf.cast instead.\n",
      "Train on 5668 samples, validate on 1418 samples\n",
      "Epoch 1/10\n",
      "5668/5668 [==============================] - 7s 1ms/step - loss: 0.2358 - acc: 0.8954 - val_loss: 0.0737 - val_acc: 0.9739\n",
      "Epoch 2/10\n",
      "5668/5668 [==============================] - 6s 1ms/step - loss: 0.0247 - acc: 0.9928 - val_loss: 0.0412 - val_acc: 0.9880\n",
      "Epoch 3/10\n",
      "5668/5668 [==============================] - 6s 1ms/step - loss: 0.0076 - acc: 0.9979 - val_loss: 0.0465 - val_acc: 0.9887\n",
      "Epoch 4/10\n",
      "5668/5668 [==============================] - 6s 1ms/step - loss: 0.0044 - acc: 0.9993 - val_loss: 0.0522 - val_acc: 0.9894\n",
      "Epoch 5/10\n",
      "5668/5668 [==============================] - 6s 1ms/step - loss: 0.0032 - acc: 0.9991 - val_loss: 0.0472 - val_acc: 0.9887\n",
      "Epoch 6/10\n",
      "5668/5668 [==============================] - 6s 1ms/step - loss: 0.0028 - acc: 0.9993 - val_loss: 0.0452 - val_acc: 0.9887\n",
      "Epoch 7/10\n",
      "5668/5668 [==============================] - 6s 1ms/step - loss: 0.0015 - acc: 0.9996 - val_loss: 0.0525 - val_acc: 0.9838\n",
      "Epoch 8/10\n",
      "5668/5668 [==============================] - 6s 1ms/step - loss: 0.0036 - acc: 0.9991 - val_loss: 0.0517 - val_acc: 0.9873\n",
      "Epoch 9/10\n",
      "5668/5668 [==============================] - 6s 1ms/step - loss: 4.8630e-04 - acc: 1.0000 - val_loss: 0.0570 - val_acc: 0.9901\n",
      "Epoch 10/10\n",
      "5668/5668 [==============================] - 6s 1ms/step - loss: 0.0020 - acc: 0.9996 - val_loss: 0.0594 - val_acc: 0.9866\n"
     ]
    }
   ],
   "source": [
    "history = model.fit(Xtrain, ytrain, batch_size=BATCH_SIZE, \n",
    "                    epochs=NUM_EPOCHS,\n",
    "                    validation_data=(Xtest, ytest))"
   ]
  },
  {
   "cell_type": "code",
   "execution_count": 14,
   "metadata": {},
   "outputs": [
    {
     "data": {
      "image/png": "[encoded data removed]",
      "text/plain": [
       "<Figure size 432x288 with 2 Axes>"
      ]
     },
     "metadata": {
      "needs_background": "light"
     },
     "output_type": "display_data"
    }
   ],
   "source": [
    "# plot loss and accuracy\n",
    "plt.subplot(211)\n",
    "plt.title(\"Accuracy\")\n",
    "plt.plot(history.history[\"acc\"], color=\"g\", label=\"Train\")\n",
    "plt.plot(history.history[\"val_acc\"], color=\"b\", label=\"Validation\")\n",
    "plt.legend(loc=\"best\")\n",
    "\n",
    "plt.subplot(212)\n",
    "plt.title(\"Loss\")\n",
    "plt.plot(history.history[\"loss\"], color=\"g\", label=\"Train\")\n",
    "plt.plot(history.history[\"val_loss\"], color=\"b\", label=\"Validation\")\n",
    "plt.legend(loc=\"best\")\n",
    "\n",
    "plt.tight_layout()\n",
    "plt.show()"
   ]
  },
  {
   "cell_type": "code",
   "execution_count": 18,
   "metadata": {},
   "outputs": [
    {
     "name": "stdout",
     "output_type": "stream",
     "text": [
      "1418/1418 [==============================] - 0s 151us/step\n",
      "Test score: 0.059, accuracy: 0.987\n",
      "0\t0\ti hate harry potter , it 's retarted , gay and stupid and there 's only one black guy ...\n",
      "0\t0\tda vinci code sucks .\n",
      "0\t0\ti hate harry potter , it 's retarted , gay and stupid and there 's only one black guy ...\n",
      "0\t0\tmy dad 's being stupid about brokeback mountain ...\n",
      "1\t1\tthe last stand and mission impossible 3 both were awesome movies .\n",
      "0\t0\tda vinci code = up , up , down , down , left , right , left , right , b , a , suck !\n",
      "1\t1\tbecause i would like to make friends who like the same things i like , and i really like harry potter , so i thought that joining a community like this would be a good start .\n",
      "1\t1\ti love being a sentry for mission impossible and a station for bonkers .\n",
      "1\t1\ti did kinda like brokeback mountain though ...\n",
      "0\t0\talways knows what i want , not guy crazy , hates harry potter..\n"
     ]
    }
   ],
   "source": [
    "# evaluate\n",
    "score, acc = model.evaluate(Xtest, ytest, batch_size=BATCH_SIZE)\n",
    "print(\"Test score: %.3f, accuracy: %.3f\" % (score, acc))\n",
    "\n",
    "for i in range(10):\n",
    "    idx = np.random.randint(len(Xtest))\n",
    "    xtest = Xtest[idx].reshape(1,40)\n",
    "    ylabel = ytest[idx]\n",
    "    ypred = model.predict(xtest)[0][0]\n",
    "    sent = \" \".join([index2word[x] for x in xtest[0].tolist() if x != 0])\n",
    "    print(\"%.0f\\t%d\\t%s\" % (ypred, ylabel, sent))"
   ]
  },
  {
   "cell_type": "code",
   "execution_count": 16,
   "metadata": {},
   "outputs": [
    {
     "data": {
      "text/plain": [
       "(40,)"
      ]
     },
     "execution_count": 16,
     "metadata": {},
     "output_type": "execute_result"
    }
   ],
   "source": [
    "Xtest[0].shape"
   ]
  },
  {
   "cell_type": "code",
   "execution_count": 17,
   "metadata": {},
   "outputs": [
    {
     "data": {
      "text/plain": [
       "(1, 40)"
      ]
     },
     "execution_count": 17,
     "metadata": {},
     "output_type": "execute_result"
    }
   ],
   "source": [
    "Xtest[0].reshape(1,40).shape"
   ]
  }
 ],
 "metadata": {
  "kernelspec": {
   "display_name": "Python 3",
   "language": "python",
   "name": "python3"
  },
  "language_info": {
   "codemirror_mode": {
    "name": "ipython",
    "version": 3
   },
   "file_extension": ".py",
   "mimetype": "text/x-python",
   "name": "python",
   "nbconvert_exporter": "python",
   "pygments_lexer": "ipython3",
   "version": "3.7.1"
  }
 },
 "nbformat": 4,
 "nbformat_minor": 2
}
