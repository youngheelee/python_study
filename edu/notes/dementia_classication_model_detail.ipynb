{
 "cells": [
  {
   "cell_type": "code",
   "execution_count": 1,
   "metadata": {
    "collapsed": true
   },
   "outputs": [],
   "source": [
    "import os\n",
    "import pandas as pd"
   ]
  },
  {
   "cell_type": "code",
   "execution_count": 2,
   "metadata": {
    "collapsed": true
   },
   "outputs": [],
   "source": [
    "from sklearn.model_selection import cross_val_score,train_test_split\n",
    "from sklearn import metrics\n",
    "from sklearn.neighbors import KNeighborsClassifier"
   ]
  },
  {
   "cell_type": "markdown",
   "metadata": {},
   "source": [
    "## 전처리를 완료하여 저장된 데이터를 읽어서 다양한 모델을 적용"
   ]
  },
  {
   "cell_type": "code",
   "execution_count": 3,
   "metadata": {
    "collapsed": false
   },
   "outputs": [
    {
     "name": "stdout",
     "output_type": "stream",
     "text": [
      "<class 'pandas.core.frame.DataFrame'>\n",
      "RangeIndex: 373 entries, 0 to 372\n",
      "Data columns (total 15 columns):\n",
      "Subject ID    373 non-null int64\n",
      "MRI ID        373 non-null int64\n",
      "Group         373 non-null int64\n",
      "Visit         373 non-null int64\n",
      "MR Delay      373 non-null int64\n",
      "M/F           373 non-null int64\n",
      "Hand          373 non-null int64\n",
      "Age           373 non-null int64\n",
      "EDUC          373 non-null int64\n",
      "SES           373 non-null int64\n",
      "MMSE          373 non-null int64\n",
      "CDR           373 non-null int64\n",
      "eTIV          373 non-null int64\n",
      "nWBV          373 non-null int64\n",
      "ASF           373 non-null int64\n",
      "dtypes: int64(15)\n",
      "memory usage: 43.8 KB\n"
     ]
    }
   ],
   "source": [
    "datafilename = \"data/oasis_longitudinal_processed.csv\"\n",
    "\n",
    "existfile = os.path.isfile(datafilename)\n",
    "if existfile :\n",
    "    df = pd.read_csv(datafilename, header=0, encoding='utf-8')\n",
    "else :\n",
    "    print(\"파일 '{}'가 존재하지 않습니다. 확인 후 진행해주세요\".format(datafilename))\n",
    "    \n",
    "# print the concise summery of the dataset\n",
    "df.info() "
   ]
  },
  {
   "cell_type": "markdown",
   "metadata": {},
   "source": [
    "## 모델링을 위한 변수 선택"
   ]
  },
  {
   "cell_type": "code",
   "execution_count": 4,
   "metadata": {
    "collapsed": true
   },
   "outputs": [],
   "source": [
    "# 모델링을 위한 변수 선택\n",
    "feature_col_names = [\"M/F\", \"Age\", \"EDUC\", \"SES\", \"MMSE\", \"eTIV\", \"nWBV\", \"ASF\"]\n",
    "predicted_class_names = ['Group']\n",
    "\n",
    "X = df[feature_col_names].values\n",
    "y = df[predicted_class_names].values\n"
   ]
  },
  {
   "cell_type": "markdown",
   "metadata": {},
   "source": [
    "## train, test set 분리"
   ]
  },
  {
   "cell_type": "code",
   "execution_count": 5,
   "metadata": {
    "collapsed": false
   },
   "outputs": [
    {
     "name": "stdout",
     "output_type": "stream",
     "text": [
      "total count : 373, df_train count : 261, df_test count : 112\n"
     ]
    }
   ],
   "source": [
    "# train, test set 분리\n",
    "X_train, X_test, y_train, y_test = train_test_split(X, y, test_size=0.30, random_state=42)\n",
    "print(\"total count : {}, df_train count : {}, df_test count : {}\".format(len(df), len(X_train), len(X_test)))"
   ]
  },
  {
   "cell_type": "markdown",
   "metadata": {},
   "source": [
    "## Modeling"
   ]
  },
  {
   "cell_type": "markdown",
   "metadata": {},
   "source": [
    "### 1-1. Modeling : k-Nearest Neighbors"
   ]
  },
  {
   "cell_type": "code",
   "execution_count": 6,
   "metadata": {
    "collapsed": false
   },
   "outputs": [
    {
     "name": "stdout",
     "output_type": "stream",
     "text": [
      "\n",
      "=== Modeling : KNeighborsClassifier ===\n",
      "Accuracy Score : 0.6964285714285714\n",
      "AUC Score : 0.7038461538461539\n",
      "<Confusion Matrix>\n",
      "[[42 10]\n",
      " [24 36]]\n",
      "<Classiffication Report>\n",
      "             precision    recall  f1-score   support\n",
      "\n",
      "          0       0.64      0.81      0.71        52\n",
      "          1       0.78      0.60      0.68        60\n",
      "\n",
      "avg / total       0.71      0.70      0.69       112\n",
      "\n"
     ]
    },
    {
     "name": "stderr",
     "output_type": "stream",
     "text": [
      "/Users/moodlee/anaconda/lib/python3.6/site-packages/ipykernel/__main__.py:3: DataConversionWarning: A column-vector y was passed when a 1d array was expected. Please change the shape of y to (n_samples, ), for example using ravel().\n",
      "  app.launch_new_instance()\n"
     ]
    }
   ],
   "source": [
    "# KNeighborsClassifier 객체 생성\n",
    "knc = KNeighborsClassifier(n_neighbors=5, weights='distance')\n",
    "knc.fit(X_train, y_train )\n",
    "\n",
    "y_test_pred = knc.predict(X_test)\n",
    "print('\\n=== Modeling : KNeighborsClassifier ===')\n",
    "print('Accuracy Score : {}'.format(metrics.accuracy_score(y_test, y_test_pred)))\n",
    "print('AUC Score : {}'.format(metrics.roc_auc_score(y_test, y_test_pred)))\n",
    "print('<Confusion Matrix>')\n",
    "print(metrics.confusion_matrix(y_test, y_test_pred))\n",
    "print('<Classiffication Report>')\n",
    "print(metrics.classification_report(y_test, y_test_pred))\n",
    "\n"
   ]
  },
  {
   "cell_type": "markdown",
   "metadata": {},
   "source": [
    "### 다양한 모델을 사용한 코드 작성"
   ]
  },
  {
   "cell_type": "code",
   "execution_count": null,
   "metadata": {
    "collapsed": true
   },
   "outputs": [],
   "source": []
  },
  {
   "cell_type": "code",
   "execution_count": null,
   "metadata": {
    "collapsed": true
   },
   "outputs": [],
   "source": []
  }
 ],
 "metadata": {
  "kernelspec": {
   "display_name": "Python 3",
   "language": "python",
   "name": "python3"
  },
  "language_info": {
   "codemirror_mode": {
    "name": "ipython",
    "version": 3
   },
   "file_extension": ".py",
   "mimetype": "text/x-python",
   "name": "python",
   "nbconvert_exporter": "python",
   "pygments_lexer": "ipython3",
   "version": "3.6.0"
  }
 },
 "nbformat": 4,
 "nbformat_minor": 2
}
