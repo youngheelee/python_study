{
 "cells": [
  {
   "cell_type": "markdown",
   "metadata": {},
   "source": [
    "## Python은 독해력, 단순함 및 명료성에 중점을 둡니다.\n",
    "\n",
    "* 모든 것은 파이썬의 객체(object)입니다. \n",
    "* 모든 숫자, 문자열, 데이터 구조, 클래스를 파이썬 객체라고합니다.\n"
   ]
  },
  {
   "cell_type": "markdown",
   "metadata": {},
   "source": [
    "### 1. Python Coding Basic"
   ]
  },
  {
   "cell_type": "markdown",
   "metadata": {},
   "source": [
    "### - 코딩블럭 들여쓰기(indentation)\n",
    "- 파이쎤은 코딩블럭을 표시하기 위해 들여쓰기를 사용한다.\n",
    "- 코딩블럭을 시작하는 문장들(if, for, def)"
   ]
  },
  {
   "cell_type": "code",
   "execution_count": 1,
   "metadata": {},
   "outputs": [
    {
     "name": "stdout",
     "output_type": "stream",
     "text": [
      "now :  2019-04-08 14:48:11.987076\n",
      "PM\n"
     ]
    }
   ],
   "source": [
    "import datetime\n",
    "\n",
    "dt = datetime.datetime.now()\n",
    "print(\"now : \", dt)\n",
    "\n",
    "if dt.hour >= 12:\n",
    "    print(\"PM\")\n",
    "else:\n",
    "    pirnt(\"AM\")"
   ]
  },
  {
   "cell_type": "markdown",
   "metadata": {},
   "source": [
    "### - import \n",
    "#### 1) import 모듈명"
   ]
  },
  {
   "cell_type": "code",
   "execution_count": 2,
   "metadata": {},
   "outputs": [
    {
     "name": "stdout",
     "output_type": "stream",
     "text": [
      "2.0\n"
     ]
    }
   ],
   "source": [
    "import math\n",
    "n = math.sqrt(4.0)\n",
    "print(n)"
   ]
  },
  {
   "cell_type": "markdown",
   "metadata": {},
   "source": [
    "#### 2) import  모듈명 as "
   ]
  },
  {
   "cell_type": "code",
   "execution_count": 3,
   "metadata": {},
   "outputs": [],
   "source": [
    "# array의 객체 정보를 출력\n",
    "def pprint(arr):\n",
    "    print(\"\\ntype:{}\".format(type(arr)))\n",
    "    print(\"shape: {}, dimension: {}, dtype:{}\".format(arr.shape, arr.ndim, arr.dtype))\n",
    "    print(\"Array's Data:\\n\", arr)"
   ]
  },
  {
   "cell_type": "code",
   "execution_count": 4,
   "metadata": {},
   "outputs": [
    {
     "name": "stdout",
     "output_type": "stream",
     "text": [
      "<class 'list'>\n",
      "\n",
      "type:<class 'numpy.ndarray'>\n",
      "shape: (3,), dimension: 1, dtype:int64\n",
      "Array's Data:\n",
      " [1 2 3]\n",
      "\n",
      "type:<class 'numpy.ndarray'>\n",
      "shape: (2, 3), dimension: 2, dtype:float64\n",
      "Array's Data:\n",
      " [[1. 2. 3.]\n",
      " [4. 5. 6.]]\n",
      "\n",
      "type:<class 'numpy.ndarray'>\n",
      "shape: (2, 2, 3), dimension: 3, dtype:float64\n",
      "Array's Data:\n",
      " [[[1. 2. 3.]\n",
      "  [4. 5. 6.]]\n",
      "\n",
      " [[3. 2. 1.]\n",
      "  [4. 5. 6.]]]\n",
      "\n",
      " == np.ifno of c ==\n",
      "\n",
      "class:  ndarray\n",
      "shape:  (2, 2, 3)\n",
      "strides:  (48, 24, 8)\n",
      "itemsize:  8\n",
      "aligned:  True\n",
      "contiguous:  True\n",
      "fortran:  False\n",
      "data pointer: 0x7f8c3c997980\n",
      "byteorder:  little\n",
      "byteswap:  False\n",
      "type: float64\n"
     ]
    }
   ],
   "source": [
    "import numpy as np\n",
    "\n",
    "arr = [1, 2, 3]\n",
    "print(type(arr))\n",
    "\n",
    "# 1차원 배열\n",
    "a = np.array(arr)\n",
    "pprint(a)\n",
    "\n",
    "# 2차원 배열\n",
    "arr = [(1,2,3), (4,5,6)]\n",
    "b= np.array(arr, dtype = float)\n",
    "pprint(b)\n",
    "#b= np.array(['spring', 'summer', 'fall', 'winter'])\n",
    "\n",
    "# 3차원 배렬\n",
    "c = np.array([[[1,2,3], [4,5,6]], [[3,2,1], [4,5,6]]], dtype = float)\n",
    "pprint(c)\n",
    "print(\"\\n == np.ifno of c ==\\n\")\n",
    "np.info(c)"
   ]
  },
  {
   "cell_type": "markdown",
   "metadata": {},
   "source": [
    "#### 3) from 모듈명 import 함수, 변수"
   ]
  },
  {
   "cell_type": "code",
   "execution_count": 5,
   "metadata": {},
   "outputs": [
    {
     "name": "stdout",
     "output_type": "stream",
     "text": [
      "start time : 2019-04-08 14:48:50.743393\n"
     ]
    }
   ],
   "source": [
    "from datetime import datetime\n",
    "start_time = datetime.now()\n",
    "print(\"start time : {}\".format(start_time))"
   ]
  },
  {
   "cell_type": "markdown",
   "metadata": {},
   "source": [
    "### - dir : 객체가 어떤 변수와 메소드(method)를 가지고 있는지 나열"
   ]
  },
  {
   "cell_type": "code",
   "execution_count": 32,
   "metadata": {},
   "outputs": [
    {
     "data": {
      "text/plain": [
       "['__doc__',\n",
       " '__file__',\n",
       " '__loader__',\n",
       " '__name__',\n",
       " '__package__',\n",
       " '__spec__',\n",
       " 'acos',\n",
       " 'acosh',\n",
       " 'asin',\n",
       " 'asinh',\n",
       " 'atan',\n",
       " 'atan2',\n",
       " 'atanh',\n",
       " 'ceil',\n",
       " 'copysign',\n",
       " 'cos',\n",
       " 'cosh',\n",
       " 'degrees',\n",
       " 'e',\n",
       " 'erf',\n",
       " 'erfc',\n",
       " 'exp',\n",
       " 'expm1',\n",
       " 'fabs',\n",
       " 'factorial',\n",
       " 'floor',\n",
       " 'fmod',\n",
       " 'frexp',\n",
       " 'fsum',\n",
       " 'gamma',\n",
       " 'gcd',\n",
       " 'hypot',\n",
       " 'inf',\n",
       " 'isclose',\n",
       " 'isfinite',\n",
       " 'isinf',\n",
       " 'isnan',\n",
       " 'ldexp',\n",
       " 'lgamma',\n",
       " 'log',\n",
       " 'log10',\n",
       " 'log1p',\n",
       " 'log2',\n",
       " 'modf',\n",
       " 'nan',\n",
       " 'pi',\n",
       " 'pow',\n",
       " 'radians',\n",
       " 'sin',\n",
       " 'sinh',\n",
       " 'sqrt',\n",
       " 'tan',\n",
       " 'tanh',\n",
       " 'tau',\n",
       " 'trunc']"
      ]
     },
     "execution_count": 32,
     "metadata": {},
     "output_type": "execute_result"
    }
   ],
   "source": [
    "dir(math)\n",
    "#dir(datetime)"
   ]
  },
  {
   "cell_type": "markdown",
   "metadata": {},
   "source": [
    "### - 코멘트\n",
    "- 파이썬에서는 코멘트를 표시하기 위하여 '#'를 사용한다.\n",
    "- 코드에 대한 설명을 하기 위해서 '#'를 사용하지만, 실행하지 않을 코드 앞에 '#'를 넣기도 한다.\n"
   ]
  },
  {
   "cell_type": "code",
   "execution_count": 6,
   "metadata": {},
   "outputs": [],
   "source": [
    "# math library를 import\n",
    "import math\n",
    "n = math.sqrt(4.0)\n",
    "#print(n)"
   ]
  },
  {
   "cell_type": "markdown",
   "metadata": {},
   "source": [
    "### 2. Print"
   ]
  },
  {
   "cell_type": "markdown",
   "metadata": {},
   "source": [
    "### - 문장을 인쇄하려면 'print' functon을 사용할 수 있습니다."
   ]
  },
  {
   "cell_type": "code",
   "execution_count": 7,
   "metadata": {},
   "outputs": [
    {
     "name": "stdout",
     "output_type": "stream",
     "text": [
      "Python lesson\n"
     ]
    }
   ],
   "source": [
    "print(\"Python lesson\")"
   ]
  },
  {
   "cell_type": "code",
   "execution_count": 8,
   "metadata": {},
   "outputs": [
    {
     "name": "stdout",
     "output_type": "stream",
     "text": [
      "Python lesson\n"
     ]
    }
   ],
   "source": [
    "print('Python lesson')"
   ]
  },
  {
   "cell_type": "code",
   "execution_count": 9,
   "metadata": {},
   "outputs": [
    {
     "name": "stdout",
     "output_type": "stream",
     "text": [
      "'PYTHON' lesson\n"
     ]
    }
   ],
   "source": [
    "print(\"'PYTHON' lesson\")"
   ]
  },
  {
   "cell_type": "code",
   "execution_count": 10,
   "metadata": {},
   "outputs": [
    {
     "name": "stdout",
     "output_type": "stream",
     "text": [
      "welcometo'python world'\n",
      "welcome to 'python world'\n"
     ]
    }
   ],
   "source": [
    "print(\"welcome\" \"to\" \"'python world'\")\n",
    "print(\"welcome\", \"to\", \"'python world'\")"
   ]
  },
  {
   "cell_type": "markdown",
   "metadata": {},
   "source": [
    "###  - 문자열에 '가 포함된 경우는 Syntax Error"
   ]
  },
  {
   "cell_type": "code",
   "execution_count": 11,
   "metadata": {},
   "outputs": [
    {
     "ename": "SyntaxError",
     "evalue": "invalid syntax (<ipython-input-11-b86adac7a2fa>, line 1)",
     "output_type": "error",
     "traceback": [
      "\u001b[0;36m  File \u001b[0;32m\"<ipython-input-11-b86adac7a2fa>\"\u001b[0;36m, line \u001b[0;32m1\u001b[0m\n\u001b[0;31m    print(''PYTHON' lesson')\u001b[0m\n\u001b[0m                 ^\u001b[0m\n\u001b[0;31mSyntaxError\u001b[0m\u001b[0;31m:\u001b[0m invalid syntax\n"
     ]
    }
   ],
   "source": [
    "print(''PYTHON' lesson')"
   ]
  },
  {
   "cell_type": "markdown",
   "metadata": {},
   "source": [
    "### - 문자열에 '를 포함한 특수문자를 그대로 표현하고 싶은 경우는 escape character( \\'\\\\\\')을 앞에 넣는다"
   ]
  },
  {
   "cell_type": "code",
   "execution_count": 13,
   "metadata": {},
   "outputs": [
    {
     "name": "stdout",
     "output_type": "stream",
     "text": [
      "'PYTHON' lesson\n"
     ]
    }
   ],
   "source": [
    "print('\\'PYTHON\\' lesson')"
   ]
  },
  {
   "cell_type": "markdown",
   "metadata": {},
   "source": [
    "### - 포맷된 형태로 출력"
   ]
  },
  {
   "cell_type": "code",
   "execution_count": 14,
   "metadata": {},
   "outputs": [
    {
     "name": "stdout",
     "output_type": "stream",
     "text": [
      "오늘은 온도는 22도이고, 습도는 70%입니다\n",
      "오늘은 온도는 22도이고, 습도는 70%입니다\n"
     ]
    }
   ],
   "source": [
    "temperature = 22;\n",
    "humidity = 70;\n",
    "print(\"오늘은 온도는 {}도이고, 습도는 {}%입니다\".format(temperature, humidity))\n",
    "print(\"오늘은 온도는 %d도이고, 습도는 %d%%입니다\" % (temperature,humidity))\n"
   ]
  },
  {
   "cell_type": "markdown",
   "metadata": {},
   "source": [
    "### 3. Python 기본 데이터 타입"
   ]
  },
  {
   "cell_type": "markdown",
   "metadata": {},
   "source": [
    "<center>타 입|<center>설 명|<center>표현 예\n",
    ":---|:---|:---\n",
    "int|정수형 데이터|100\n",
    "float|소숫점을 포함한 실수|3.14159\n",
    "bool|참/거짓|True\n",
    "None|Null과 같은 표현|None\n",
    "str|문자열|'LG Electronics'\n"
   ]
  },
  {
   "cell_type": "markdown",
   "metadata": {},
   "source": [
    "### - Number(숫자 자료형)"
   ]
  },
  {
   "cell_type": "code",
   "execution_count": 15,
   "metadata": {},
   "outputs": [
    {
     "name": "stdout",
     "output_type": "stream",
     "text": [
      "3\n",
      "2000.0\n",
      "3.14159\n",
      "inf\n",
      "-inf\n",
      "False\n",
      "True\n",
      "True\n",
      "None\n",
      "True\n"
     ]
    }
   ],
   "source": [
    "print(int(3.14159))           # 3\n",
    "print(2e3)                # 2000.0\n",
    "print(float(\"3.14159\"))   # 3.14159\n",
    "print(float(\"inf\"))       # 무한대\n",
    "print(float(\"-inf\"))      # -무한대\n",
    "print(bool(0))            # False. 숫자에서 0만 False\n",
    "print(bool(-1))           # True\n",
    "print(bool(\"False\"))      # True\n",
    "a = None                  # a는 None\n",
    "print(a)\n",
    "print(a is None)          # a가 None 이므로 True\n"
   ]
  },
  {
   "cell_type": "markdown",
   "metadata": {},
   "source": [
    "#### - 숫자형 사칙연산 및 주요 operator"
   ]
  },
  {
   "cell_type": "code",
   "execution_count": 16,
   "metadata": {},
   "outputs": [
    {
     "name": "stdout",
     "output_type": "stream",
     "text": [
      "11\n",
      "3\n",
      "28\n",
      "1.75\n",
      "3\n",
      "1\n",
      "2401\n",
      "a+b=11, a-b=3, a*b=28, a/b=1.75, a%b=3, a//b=1, a**b=2401\n",
      "7+4=11, 7-4=3, 7**4=2401,\n"
     ]
    }
   ],
   "source": [
    "a = 7\n",
    "b = 4\n",
    "print(a+b)\n",
    "print(a-b)\n",
    "print(a*b)\n",
    "print(a/b)\n",
    "print(a%b)\n",
    "print(a//b)\n",
    "print(a**b)\n",
    "print(\"a+b={}, a-b={}, a*b={}, a/b={}, a%b={}, a//b={}, a**b={}\".format(a+b, a-b, a*b, a/b, a%b, a//b, a**b))\n",
    "print(\"{}+{}={}, {}-{}={}, {}**{}={},\".format(a, b, a+b, a, b, a-b, a, b, a**b))"
   ]
  },
  {
   "cell_type": "markdown",
   "metadata": {},
   "source": [
    "### - String(문자열 자료형)"
   ]
  },
  {
   "cell_type": "code",
   "execution_count": 17,
   "metadata": {},
   "outputs": [
    {
     "name": "stdout",
     "output_type": "stream",
     "text": [
      "Python Lesson에 오신 것을 환영합니다\n"
     ]
    }
   ],
   "source": [
    "welcome_str = \"Python Lesson에 오신 것을 환영합니다\"\n",
    "print(welcome_str)"
   ]
  },
  {
   "cell_type": "code",
   "execution_count": 18,
   "metadata": {},
   "outputs": [
    {
     "name": "stdout",
     "output_type": "stream",
     "text": [
      "My name is Younghee Lee\n",
      "Lee Lee Lee Lee Lee \n"
     ]
    }
   ],
   "source": [
    "lastName = 'Lee'\n",
    "firstName = 'Younghee'\n",
    "\n",
    "print(\"My name is\", firstName, lastName)  # Younghee Lee\n",
    "print( (lastName + ' ') * 5)      # Lee Lee Lee Lee Lee "
   ]
  },
  {
   "cell_type": "markdown",
   "metadata": {},
   "source": [
    "#### -  문자열 더해서 연결하기(Concatenation)"
   ]
  },
  {
   "cell_type": "code",
   "execution_count": 19,
   "metadata": {},
   "outputs": [
    {
     "name": "stdout",
     "output_type": "stream",
     "text": [
      "Lee Younghee\n",
      "Lee Younghee\n"
     ]
    }
   ],
   "source": [
    "fullName = lastName + \" \" + firstName\n",
    "print(fullName)\n",
    "print(lastName + \" \" + firstName)"
   ]
  },
  {
   "cell_type": "markdown",
   "metadata": {},
   "source": [
    "#### - 문자열 곱하기"
   ]
  },
  {
   "cell_type": "code",
   "execution_count": 20,
   "metadata": {},
   "outputs": [
    {
     "name": "stdout",
     "output_type": "stream",
     "text": [
      "별점(*) : *****\n"
     ]
    }
   ],
   "source": [
    "count = 5\n",
    "print(\"별점(*) : \" + \"*\" * count)"
   ]
  },
  {
   "cell_type": "markdown",
   "metadata": {},
   "source": [
    "### - indexing string(문자열 인덱싱)"
   ]
  },
  {
   "cell_type": "code",
   "execution_count": 21,
   "metadata": {},
   "outputs": [
    {
     "name": "stdout",
     "output_type": "stream",
     "text": [
      "13\n",
      "P\n",
      "y\n",
      "n\n",
      "n\n",
      "o\n",
      "6\n",
      "파\n",
      "이\n",
      "슨\n",
      "슨\n",
      "레\n"
     ]
    }
   ],
   "source": [
    "welcome_str = 'Python Lesson'\n",
    "print(len(welcome_str))\n",
    "print(welcome_str[0])   # P\n",
    "print(welcome_str[1])   # y\n",
    "print(welcome_str[12])  # n\n",
    "\n",
    "print(welcome_str[-1])  # n\n",
    "print(welcome_str[-2])  # o\n",
    "\n",
    "welcome_str2 = '파이썬 레슨'\n",
    "print(len(welcome_str2))\n",
    "print(welcome_str2[0])   # 파\n",
    "print(welcome_str2[1])   # 이\n",
    "print(welcome_str2[5])   # 슨\n",
    "\n",
    "print(welcome_str2[-1])  # 슨\n",
    "print(welcome_str2[-2])  # 레"
   ]
  },
  {
   "cell_type": "markdown",
   "metadata": {},
   "source": [
    "### - slicing string(문자열 스라이싱)"
   ]
  },
  {
   "cell_type": "code",
   "execution_count": 22,
   "metadata": {},
   "outputs": [
    {
     "name": "stdout",
     "output_type": "stream",
     "text": [
      "Python\n",
      "파이썬 레슨\n",
      " Lesson\n",
      "\n",
      " Lesso\n",
      " 레\n"
     ]
    }
   ],
   "source": [
    "print(welcome_str[0:6])\n",
    "print(welcome_str2[0:6])\n",
    "\n",
    "print(welcome_str[6:])\n",
    "print(welcome_str2[6:])\n",
    "\n",
    "print(welcome_str[6:-1])\n",
    "print(welcome_str2[3:-1])\n"
   ]
  },
  {
   "cell_type": "markdown",
   "metadata": {},
   "source": [
    "### - Encoding"
   ]
  },
  {
   "cell_type": "code",
   "execution_count": 23,
   "metadata": {},
   "outputs": [
    {
     "name": "stdout",
     "output_type": "stream",
     "text": [
      "<class 'str'>\n"
     ]
    }
   ],
   "source": [
    "welcome = \"Python Lesson에 오신것을 환영합니다\"\n",
    "print(type(welcome))"
   ]
  },
  {
   "cell_type": "code",
   "execution_count": 24,
   "metadata": {},
   "outputs": [
    {
     "name": "stdout",
     "output_type": "stream",
     "text": [
      "b'Python Lesson\\xec\\x97\\x90 \\xec\\x98\\xa4\\xec\\x8b\\xa0\\xea\\xb2\\x83\\xec\\x9d\\x84 \\xed\\x99\\x98\\xec\\x98\\x81\\xed\\x95\\xa9\\xeb\\x8b\\x88\\xeb\\x8b\\xa4'\n"
     ]
    }
   ],
   "source": [
    "print(welcome.encode('utf-8'))"
   ]
  },
  {
   "cell_type": "code",
   "execution_count": 25,
   "metadata": {},
   "outputs": [
    {
     "data": {
      "text/plain": [
       "'Python Lesson에 오신것을 환영합니다'"
      ]
     },
     "execution_count": 25,
     "metadata": {},
     "output_type": "execute_result"
    }
   ],
   "source": [
    "welcome.encode('utf-8').decode('utf-8')"
   ]
  },
  {
   "cell_type": "markdown",
   "metadata": {},
   "source": [
    "###  - laTeX"
   ]
  },
  {
   "cell_type": "markdown",
   "metadata": {},
   "source": [
    "#### - code pane에 표시하는 경우"
   ]
  },
  {
   "cell_type": "code",
   "execution_count": 26,
   "metadata": {},
   "outputs": [
    {
     "data": {
      "text/latex": [
       "$\\displaystyle F(k) = \\int_{-\\infty}^{\\infty} f(x) e^{2\\pi i k} dx$"
      ],
      "text/plain": [
       "<IPython.core.display.Math object>"
      ]
     },
     "metadata": {},
     "output_type": "display_data"
    }
   ],
   "source": [
    "from IPython.display import display, Math, Latex\n",
    "display(Math(r'F(k) = \\int_{-\\infty}^{\\infty} f(x) e^{2\\pi i k} dx'))\n"
   ]
  },
  {
   "cell_type": "markdown",
   "metadata": {},
   "source": [
    "#### - markdown pane에 표시하는 경우\n",
    "$$c = \\sqrt{a^2 + b^2}$$"
   ]
  }
 ],
 "metadata": {
  "kernelspec": {
   "display_name": "Python 3",
   "language": "python",
   "name": "python3"
  },
  "language_info": {
   "codemirror_mode": {
    "name": "ipython",
    "version": 3
   },
   "file_extension": ".py",
   "mimetype": "text/x-python",
   "name": "python",
   "nbconvert_exporter": "python",
   "pygments_lexer": "ipython3",
   "version": "3.7.1"
  }
 },
 "nbformat": 4,
 "nbformat_minor": 2
}
