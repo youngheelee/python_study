{
 "cells": [
  {
   "cell_type": "markdown",
   "metadata": {},
   "source": [
    "## 파일에서 읽기"
   ]
  },
  {
   "cell_type": "markdown",
   "metadata": {},
   "source": [
    "### - 한 줄씩 읽기"
   ]
  },
  {
   "cell_type": "code",
   "execution_count": 22,
   "metadata": {
    "collapsed": false
   },
   "outputs": [
    {
     "name": "stdout",
     "output_type": "stream",
     "text": [
      "2\n",
      "3.14\n",
      "Hello World!\n",
      "일산병원\n"
     ]
    }
   ],
   "source": [
    "fp = open(\"data/text.txt\", encoding = 'utf-8')\n",
    "line = fp.readline()\n",
    "print(line.strip())\n",
    "\n",
    "line = fp.readline()\n",
    "print(line.strip())\n",
    "\n",
    "line = fp.readline()\n",
    "print(line.strip())\n",
    "\n",
    "line = fp.readline()\n",
    "print(line.strip())\n",
    "\n",
    "f.close()"
   ]
  },
  {
   "cell_type": "markdown",
   "metadata": {},
   "source": [
    "### - 여러 줄을 한 번에 읽기"
   ]
  },
  {
   "cell_type": "code",
   "execution_count": 21,
   "metadata": {
    "collapsed": false
   },
   "outputs": [
    {
     "name": "stdout",
     "output_type": "stream",
     "text": [
      "['2\\n', '3.14\\n', 'Hello World!\\n', '일산병원\\n']\n"
     ]
    }
   ],
   "source": [
    "fp = open('data/text.txt', 'r')\n",
    "lines = fp.readlines()\n",
    "print(lines)\n",
    "\n",
    "fp.close()"
   ]
  },
  {
   "cell_type": "markdown",
   "metadata": {},
   "source": [
    "### - 파일 내용 모두 읽기"
   ]
  },
  {
   "cell_type": "code",
   "execution_count": 29,
   "metadata": {
    "collapsed": false
   },
   "outputs": [
    {
     "name": "stdout",
     "output_type": "stream",
     "text": [
      "1\n",
      "3.14\n",
      "Hello World!\n",
      "서울과학종합대학원 빅데이터MBA\n",
      "2\n",
      "3.14159\n",
      "Hello World!\n",
      "일산병원\n",
      "\n"
     ]
    }
   ],
   "source": [
    "fp = open('data/text.txt', 'r')\n",
    "contents = fp.read()\n",
    "print(contents)\n",
    "\n",
    "fp.close()"
   ]
  },
  {
   "cell_type": "markdown",
   "metadata": {},
   "source": [
    "## 파일에 쓰기"
   ]
  },
  {
   "cell_type": "markdown",
   "metadata": {},
   "source": [
    "### - 파일에 쓰기"
   ]
  },
  {
   "cell_type": "code",
   "execution_count": 18,
   "metadata": {
    "collapsed": true
   },
   "outputs": [],
   "source": [
    "fp = open('data/hello.txt', 'w')\n",
    "fp.write('Hello World!')\n",
    "fp.close()\n"
   ]
  },
  {
   "cell_type": "markdown",
   "metadata": {},
   "source": [
    "### - 파일에 내용 추가하기"
   ]
  },
  {
   "cell_type": "code",
   "execution_count": 28,
   "metadata": {
    "collapsed": true
   },
   "outputs": [],
   "source": [
    "fp = open('data/text.txt', 'a')\n",
    "fp.write('{}\\n'.format(2))\n",
    "fp.write('{:.5f}\\n'.format(3.14159))\n",
    "fp.write('Hello World!\\n')\n",
    "fp.write('일산병원\\n')\n",
    "fp.close()"
   ]
  },
  {
   "cell_type": "code",
   "execution_count": 27,
   "metadata": {
    "collapsed": true
   },
   "outputs": [],
   "source": [
    "fp = open('data/text.txt', 'w')\n",
    "fp.write('{}\\n'.format(1))\n",
    "fp.write('{:.2f}\\n'.format(3.1415))\n",
    "fp.write('Hello World!\\n')\n",
    "fp.write('서울과학종합대학원 빅데이터MBA\\n')\n",
    "fp.close()"
   ]
  },
  {
   "cell_type": "code",
   "execution_count": 31,
   "metadata": {
    "collapsed": false
   },
   "outputs": [
    {
     "name": "stdout",
     "output_type": "stream",
     "text": [
      "<class 'pandas.core.frame.DataFrame'>\n",
      "RangeIndex: 373 entries, 0 to 372\n",
      "Data columns (total 15 columns):\n",
      "Subject ID    373 non-null object\n",
      "MRI ID        373 non-null object\n",
      "Group         373 non-null object\n",
      "Visit         373 non-null int64\n",
      "MR Delay      373 non-null int64\n",
      "M/F           373 non-null object\n",
      "Hand          373 non-null object\n",
      "Age           373 non-null int64\n",
      "EDUC          373 non-null int64\n",
      "SES           354 non-null float64\n",
      "MMSE          371 non-null float64\n",
      "CDR           373 non-null float64\n",
      "eTIV          373 non-null int64\n",
      "nWBV          373 non-null float64\n",
      "ASF           373 non-null float64\n",
      "dtypes: float64(5), int64(5), object(5)\n",
      "memory usage: 43.8+ KB\n"
     ]
    }
   ],
   "source": [
    "import os\n",
    "import pandas as pd\n",
    "datafilename = \"data/oasis_longitudinal.csv\"\n",
    "\n",
    "existfile = os.path.isfile(datafilename)\n",
    "if existfile :\n",
    "    df = pd.read_csv(datafilename, header=0, encoding='utf-8')\n",
    "else :\n",
    "    print(\"파일 '{}'가 존재하지 않습니다. 확인 후 진행해주세요\".format(datafilename))\n",
    "    \n",
    "# print the concise summery of the dataset\n",
    "df.info() \n"
   ]
  },
  {
   "cell_type": "markdown",
   "metadata": {},
   "source": [
    "## csv, excel 파일에서 읽기"
   ]
  },
  {
   "cell_type": "markdown",
   "metadata": {},
   "source": [
    "### - cvs 파일 읽기"
   ]
  },
  {
   "cell_type": "code",
   "execution_count": 39,
   "metadata": {
    "collapsed": false
   },
   "outputs": [
    {
     "name": "stdout",
     "output_type": "stream",
     "text": [
      "<class 'pandas.core.frame.DataFrame'>\n",
      "RangeIndex: 373 entries, 0 to 372\n",
      "Data columns (total 15 columns):\n",
      "Subject ID    373 non-null object\n",
      "MRI ID        373 non-null object\n",
      "Group         373 non-null object\n",
      "Visit         373 non-null int64\n",
      "MR Delay      373 non-null int64\n",
      "M/F           373 non-null object\n",
      "Hand          373 non-null object\n",
      "Age           373 non-null int64\n",
      "EDUC          373 non-null int64\n",
      "SES           354 non-null float64\n",
      "MMSE          371 non-null float64\n",
      "CDR           373 non-null float64\n",
      "eTIV          373 non-null int64\n",
      "nWBV          373 non-null float64\n",
      "ASF           373 non-null float64\n",
      "dtypes: float64(5), int64(5), object(5)\n",
      "memory usage: 43.8+ KB\n"
     ]
    }
   ],
   "source": [
    "import pandas as pd\n",
    "\n",
    "datafilename = \"data/oasis_longitudinal.csv\"\n",
    "\n",
    "try:\n",
    "    df = pd.read_csv(datafilename, header=0, encoding='utf-8')\n",
    "    df.info()\n",
    "except FileNotFoundError :\n",
    "    print(\"파일이 존재하지 않습니다. 다시 확인 후 진행해 주세요.\")\n",
    "    \n",
    "    "
   ]
  },
  {
   "cell_type": "markdown",
   "metadata": {},
   "source": [
    "### - 엑셀 파일 읽기"
   ]
  },
  {
   "cell_type": "code",
   "execution_count": 47,
   "metadata": {
    "collapsed": false
   },
   "outputs": [
    {
     "name": "stdout",
     "output_type": "stream",
     "text": [
      "          Region   Sub1  Sub2  Sub3   ApartmentName  ExclusiveArea  \\\n",
      "0  서울특별시 강남구 개포동  658-1  0658  0001  개포6차우성아파트1동~8동          79.97   \n",
      "1  서울특별시 강남구 개포동  658-1  0658  0001  개포6차우성아파트1동~8동          79.97   \n",
      "2  서울특별시 강남구 개포동  658-1  0658  0001  개포6차우성아파트1동~8동          79.97   \n",
      "3  서울특별시 강남구 개포동    652  0652  0000          개포우성3차         161.00   \n",
      "4  서울특별시 강남구 개포동   12-2  0012  0002      개포자이(12-2)         170.32   \n",
      "\n",
      "   ContractYM ContractDay       SalePrice  Floor  YearBuilt   Street  \n",
      "0      201801        1~10         130,000      4       1987      언주로  \n",
      "1      201801        1~10         117,000      2       1987      언주로  \n",
      "2      201801       11~20         130,000      1       1987      언주로  \n",
      "3      201801        1~10         210,000     12       1984      개포로  \n",
      "4      201801        1~10         162,000     16       2004  개포로109길  \n"
     ]
    }
   ],
   "source": [
    "import pandas as pd\n",
    "\n",
    "infilename = 'data/estate_201801.xlsx'\n",
    "sheetname='아파트 매매 실거래가'\n",
    "df = pd.read_excel(infilename, sheet_name=sheetname, skiprows=16, header=0, converters={'본번':str,'부번':str}, encoding='utf-8')\n",
    "df.columns = ['Region','Sub1','Sub2','Sub3','ApartmentName','ExclusiveArea', 'ContractYM','ContractDay','SalePrice','Floor','YearBuilt','Street']\n",
    "\n",
    "df.shape\n",
    "print(df.head())\n",
    "\n",
    "# SalePrice가 ','가 포함된 object type으로 되어 있는데 ','를 제거후 numeric type으로 변경\n",
    "df['SalePrice'] = df['SalePrice'].replace(',', '', regex=True)\n",
    "df['SalePrice'] = pd.to_numeric(df['SalePrice'])\n"
   ]
  },
  {
   "cell_type": "code",
   "execution_count": null,
   "metadata": {
    "collapsed": true
   },
   "outputs": [],
   "source": []
  }
 ],
 "metadata": {
  "kernelspec": {
   "display_name": "Python 3",
   "language": "python",
   "name": "python3"
  },
  "language_info": {
   "codemirror_mode": {
    "name": "ipython",
    "version": 3
   },
   "file_extension": ".py",
   "mimetype": "text/x-python",
   "name": "python",
   "nbconvert_exporter": "python",
   "pygments_lexer": "ipython3",
   "version": "3.6.0"
  }
 },
 "nbformat": 4,
 "nbformat_minor": 2
}
