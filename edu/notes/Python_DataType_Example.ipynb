{
 "cells": [
  {
   "cell_type": "code",
   "execution_count": 2,
   "metadata": {
    "collapsed": true
   },
   "outputs": [],
   "source": [
    "import pandas as pd"
   ]
  },
  {
   "cell_type": "code",
   "execution_count": 3,
   "metadata": {
    "collapsed": true
   },
   "outputs": [],
   "source": [
    "#!pip install xlrd"
   ]
  },
  {
   "cell_type": "markdown",
   "metadata": {},
   "source": [
    "## 850회까지 진행 한 로또복권 당첨 번호 파일 읽어오기"
   ]
  },
  {
   "cell_type": "code",
   "execution_count": 4,
   "metadata": {},
   "outputs": [
    {
     "data": {
      "text/html": [
       "<div>\n",
       "<style scoped>\n",
       "    .dataframe tbody tr th:only-of-type {\n",
       "        vertical-align: middle;\n",
       "    }\n",
       "\n",
       "    .dataframe tbody tr th {\n",
       "        vertical-align: top;\n",
       "    }\n",
       "\n",
       "    .dataframe thead th {\n",
       "        text-align: right;\n",
       "    }\n",
       "</style>\n",
       "<table border=\"1\" class=\"dataframe\">\n",
       "  <thead>\n",
       "    <tr style=\"text-align: right;\">\n",
       "      <th></th>\n",
       "      <th>회차</th>\n",
       "      <th>추첨일</th>\n",
       "      <th>1등 당첨자수</th>\n",
       "      <th>1등 당첨금액</th>\n",
       "      <th>2등 당첨자수</th>\n",
       "      <th>2등 당첨금액</th>\n",
       "      <th>3등 당첨자수</th>\n",
       "      <th>3등 당첨금액</th>\n",
       "      <th>4등 당첨자수</th>\n",
       "      <th>4등 당첨금액</th>\n",
       "      <th>5등 당첨자수</th>\n",
       "      <th>5등 당첨금액</th>\n",
       "      <th>1</th>\n",
       "      <th>2</th>\n",
       "      <th>3</th>\n",
       "      <th>4</th>\n",
       "      <th>5</th>\n",
       "      <th>6</th>\n",
       "      <th>7</th>\n",
       "    </tr>\n",
       "  </thead>\n",
       "  <tbody>\n",
       "    <tr>\n",
       "      <th>0</th>\n",
       "      <td>850</td>\n",
       "      <td>2019-03-16</td>\n",
       "      <td>6</td>\n",
       "      <td>3377587875</td>\n",
       "      <td>55</td>\n",
       "      <td>61410689</td>\n",
       "      <td>2023</td>\n",
       "      <td>1669594</td>\n",
       "      <td>101591</td>\n",
       "      <td>50000</td>\n",
       "      <td>1727367</td>\n",
       "      <td>5000</td>\n",
       "      <td>16</td>\n",
       "      <td>20</td>\n",
       "      <td>24</td>\n",
       "      <td>28</td>\n",
       "      <td>36</td>\n",
       "      <td>39</td>\n",
       "      <td>5</td>\n",
       "    </tr>\n",
       "    <tr>\n",
       "      <th>1</th>\n",
       "      <td>849</td>\n",
       "      <td>2019-03-09</td>\n",
       "      <td>17</td>\n",
       "      <td>1158252883</td>\n",
       "      <td>56</td>\n",
       "      <td>58602081</td>\n",
       "      <td>2682</td>\n",
       "      <td>1223608</td>\n",
       "      <td>113125</td>\n",
       "      <td>50000</td>\n",
       "      <td>1851371</td>\n",
       "      <td>5000</td>\n",
       "      <td>5</td>\n",
       "      <td>13</td>\n",
       "      <td>17</td>\n",
       "      <td>29</td>\n",
       "      <td>34</td>\n",
       "      <td>39</td>\n",
       "      <td>3</td>\n",
       "    </tr>\n",
       "    <tr>\n",
       "      <th>2</th>\n",
       "      <td>848</td>\n",
       "      <td>2019-03-02</td>\n",
       "      <td>7</td>\n",
       "      <td>3011580858</td>\n",
       "      <td>42</td>\n",
       "      <td>83655024</td>\n",
       "      <td>2109</td>\n",
       "      <td>1665961</td>\n",
       "      <td>103845</td>\n",
       "      <td>50000</td>\n",
       "      <td>1792259</td>\n",
       "      <td>5000</td>\n",
       "      <td>1</td>\n",
       "      <td>2</td>\n",
       "      <td>16</td>\n",
       "      <td>22</td>\n",
       "      <td>38</td>\n",
       "      <td>39</td>\n",
       "      <td>34</td>\n",
       "    </tr>\n",
       "    <tr>\n",
       "      <th>3</th>\n",
       "      <td>847</td>\n",
       "      <td>2019-02-23</td>\n",
       "      <td>8</td>\n",
       "      <td>2520846657</td>\n",
       "      <td>40</td>\n",
       "      <td>84028222</td>\n",
       "      <td>2443</td>\n",
       "      <td>1375821</td>\n",
       "      <td>114324</td>\n",
       "      <td>50000</td>\n",
       "      <td>1857205</td>\n",
       "      <td>5000</td>\n",
       "      <td>12</td>\n",
       "      <td>16</td>\n",
       "      <td>26</td>\n",
       "      <td>28</td>\n",
       "      <td>30</td>\n",
       "      <td>42</td>\n",
       "      <td>22</td>\n",
       "    </tr>\n",
       "    <tr>\n",
       "      <th>4</th>\n",
       "      <td>846</td>\n",
       "      <td>2019-02-16</td>\n",
       "      <td>13</td>\n",
       "      <td>1596884395</td>\n",
       "      <td>69</td>\n",
       "      <td>50143713</td>\n",
       "      <td>1997</td>\n",
       "      <td>1732557</td>\n",
       "      <td>106009</td>\n",
       "      <td>50000</td>\n",
       "      <td>1797728</td>\n",
       "      <td>5000</td>\n",
       "      <td>5</td>\n",
       "      <td>18</td>\n",
       "      <td>30</td>\n",
       "      <td>41</td>\n",
       "      <td>43</td>\n",
       "      <td>45</td>\n",
       "      <td>13</td>\n",
       "    </tr>\n",
       "  </tbody>\n",
       "</table>\n",
       "</div>"
      ],
      "text/plain": [
       "    회차        추첨일  1등 당첨자수     1등 당첨금액  2등 당첨자수   2등 당첨금액  3등 당첨자수  3등 당첨금액  \\\n",
       "0  850 2019-03-16        6  3377587875       55  61410689     2023  1669594   \n",
       "1  849 2019-03-09       17  1158252883       56  58602081     2682  1223608   \n",
       "2  848 2019-03-02        7  3011580858       42  83655024     2109  1665961   \n",
       "3  847 2019-02-23        8  2520846657       40  84028222     2443  1375821   \n",
       "4  846 2019-02-16       13  1596884395       69  50143713     1997  1732557   \n",
       "\n",
       "   4등 당첨자수  4등 당첨금액  5등 당첨자수  5등 당첨금액   1   2   3   4   5   6   7  \n",
       "0   101591    50000  1727367     5000  16  20  24  28  36  39   5  \n",
       "1   113125    50000  1851371     5000   5  13  17  29  34  39   3  \n",
       "2   103845    50000  1792259     5000   1   2  16  22  38  39  34  \n",
       "3   114324    50000  1857205     5000  12  16  26  28  30  42  22  \n",
       "4   106009    50000  1797728     5000   5  18  30  41  43  45  13  "
      ]
     },
     "execution_count": 4,
     "metadata": {},
     "output_type": "execute_result"
    }
   ],
   "source": [
    "df = pd.read_excel('data/lotto.xls', header=1, encoding='utf-8')\n",
    "df.head()\n"
   ]
  },
  {
   "cell_type": "code",
   "execution_count": 5,
   "metadata": {},
   "outputs": [
    {
     "data": {
      "text/plain": [
       "(850, 19)"
      ]
     },
     "execution_count": 5,
     "metadata": {},
     "output_type": "execute_result"
    }
   ],
   "source": [
    "df.dtypes\n",
    "df.shape"
   ]
  },
  {
   "cell_type": "markdown",
   "metadata": {},
   "source": [
    "### 1에서 45까지 숫자를 생성하여 리스트에 넣는다"
   ]
  },
  {
   "cell_type": "code",
   "execution_count": 6,
   "metadata": {
    "collapsed": true
   },
   "outputs": [],
   "source": [
    "lotto_list = list(range(1, 46))\n",
    "#lotto_list"
   ]
  },
  {
   "cell_type": "markdown",
   "metadata": {},
   "source": [
    "###### 중복되지 않게 6개 숫자를 랜덤하게 추출한다."
   ]
  },
  {
   "cell_type": "code",
   "execution_count": 7,
   "metadata": {},
   "outputs": [
    {
     "name": "stdout",
     "output_type": "stream",
     "text": [
      "choice num :  23\n",
      "choice num :  12\n",
      "choice num :  13\n",
      "choice num :  8\n",
      "choice num :  42\n",
      "choice num :  43\n",
      "selected list [23, 12, 13, 8, 42, 43]\n"
     ]
    }
   ],
   "source": [
    "import random\n",
    "\n",
    "selected_list = []\n",
    "while len(selected_list) <  6:\n",
    "    choice_num = random.choice(lotto_list)\n",
    "    print(\"choice num :  {}\".format(choice_num))\n",
    "    lotto_list.remove(choice_num)\n",
    "    selected_list.extend([choice_num])\n",
    " \n",
    "print(\"selected list {}\".format(selected_list))\n"
   ]
  },
  {
   "cell_type": "markdown",
   "metadata": {},
   "source": [
    "### 정렬"
   ]
  },
  {
   "cell_type": "code",
   "execution_count": 9,
   "metadata": {},
   "outputs": [
    {
     "data": {
      "text/plain": [
       "[8, 12, 13, 23, 42, 43]"
      ]
     },
     "execution_count": 9,
     "metadata": {},
     "output_type": "execute_result"
    }
   ],
   "source": [
    "selected_list.sort()\n",
    "selected_list"
   ]
  },
  {
   "cell_type": "markdown",
   "metadata": {},
   "source": [
    "### 위의 처리를 심플하게"
   ]
  },
  {
   "cell_type": "code",
   "execution_count": 16,
   "metadata": {},
   "outputs": [
    {
     "data": {
      "text/plain": [
       "[3, 10, 15, 32, 33, 36]"
      ]
     },
     "execution_count": 16,
     "metadata": {},
     "output_type": "execute_result"
    }
   ],
   "source": [
    "selected_list = sorted(random.sample(range(1,50), 6))\n",
    "selected_list"
   ]
  },
  {
   "cell_type": "markdown",
   "metadata": {},
   "source": [
    "### df에서 당첨번호를 꺼내서 리스트로 만든다"
   ]
  },
  {
   "cell_type": "code",
   "execution_count": 17,
   "metadata": {},
   "outputs": [
    {
     "name": "stdout",
     "output_type": "stream",
     "text": [
      "[array([[16, 20, 24, 28, 36, 39],\n",
      "       [ 5, 13, 17, 29, 34, 39],\n",
      "       [ 1,  2, 16, 22, 38, 39],\n",
      "       ...,\n",
      "       [11, 16, 19, 21, 27, 31],\n",
      "       [ 9, 13, 21, 25, 32, 42],\n",
      "       [10, 23, 29, 33, 37, 40]])]\n"
     ]
    }
   ],
   "source": [
    "# 모델링을 위한 변수 선택\n",
    "feature_col_names = [1, 2, 3, 4, 5, 6]\n",
    "\n",
    "df1 = [df[feature_col_names].values]\n",
    "print(df1)\n",
    "#df1.dtypes\n",
    "#df1.columns.values.tolist()"
   ]
  },
  {
   "cell_type": "code",
   "execution_count": 19,
   "metadata": {},
   "outputs": [
    {
     "name": "stdout",
     "output_type": "stream",
     "text": [
      "You have matrched : 48회차 번호 : [1, 10, 13, 26, 32, 36], 나의 번호:[10, 32, 36]\n",
      "You have matrched : 54회차 번호 : [2, 10, 14, 22, 32, 36], 나의 번호:[10, 32, 36]\n",
      "You have matrched : 104회차 번호 : [3, 10, 13, 22, 31, 32], 나의 번호:[3, 10, 32]\n",
      "You have matrched : 106회차 번호 : [3, 12, 33, 36, 42, 45], 나의 번호:[3, 33, 36]\n",
      "You have matrched : 151회차 번호 : [3, 10, 14, 16, 36, 38], 나의 번호:[3, 10, 36]\n",
      "You have matrched : 160회차 번호 : [3, 11, 14, 15, 32, 36], 나의 번호:[3, 15, 32, 36]\n",
      "You have matrched : 188회차 번호 : [10, 20, 33, 36, 41, 44], 나의 번호:[10, 33, 36]\n",
      "You have matrched : 209회차 번호 : [15, 24, 31, 32, 33, 40], 나의 번호:[15, 32, 33]\n",
      "You have matrched : 285회차 번호 : [1, 10, 15, 16, 32, 41], 나의 번호:[10, 15, 32]\n",
      "You have matrched : 312회차 번호 : [3, 12, 13, 15, 34, 36], 나의 번호:[3, 15, 36]\n",
      "You have matrched : 331회차 번호 : [3, 7, 18, 29, 32, 36], 나의 번호:[3, 32, 36]\n",
      "You have matrched : 394회차 번호 : [4, 9, 10, 32, 36, 40], 나의 번호:[10, 32, 36]\n",
      "You have matrched : 529회차 번호 : [10, 14, 15, 32, 36, 42], 나의 번호:[10, 15, 32, 36]\n",
      "You have matrched : 535회차 번호 : [3, 10, 11, 22, 36, 39], 나의 번호:[3, 10, 36]\n",
      "You have matrched : 584회차 번호 : [3, 10, 19, 24, 32, 45], 나의 번호:[3, 10, 32]\n",
      "You have matrched : 725회차 번호 : [3, 5, 10, 29, 32, 43], 나의 번호:[3, 10, 32]\n",
      "You have matrched : 727회차 번호 : [2, 8, 32, 33, 35, 36], 나의 번호:[32, 33, 36]\n",
      "You have matrched : 760회차 번호 : [3, 14, 24, 33, 35, 36], 나의 번호:[3, 33, 36]\n",
      "You have matrched : 785회차 번호 : [3, 7, 10, 15, 36, 38], 나의 번호:[3, 10, 15, 36]\n"
     ]
    },
    {
     "data": {
      "text/plain": [
       "''"
      ]
     },
     "execution_count": 19,
     "metadata": {},
     "output_type": "execute_result"
    }
   ],
   "source": [
    "row_no = 1\n",
    "for row in df1:\n",
    "    for elem in row:\n",
    "        lotto_no = list(elem)\n",
    " #       print(\"low no : {}, number  : {}\\n\".format(row_no, lotto_no))\n",
    "        row_no += 1\n",
    "        counter = 0\n",
    "        matched_list = []\n",
    "        for x in range(0, 6) :\n",
    "            for y in range(0, 6):\n",
    "                if lotto_no[x] == selected_list[y]:\n",
    " #                   print(\"You have a match! it was \" + str(selected_list[y]))\n",
    "                    matched_list.extend([selected_list[y]])\n",
    "                    y += 1\n",
    "                    counter += 1\n",
    "        if (counter > 2):\n",
    "            print(\"You have matrched : {}회차 번호 : {}, 나의 번호:{}\".format(row_no, lotto_no, matched_list))\n",
    ", "
   ]
  },
  {
   "cell_type": "code",
   "execution_count": null,
   "metadata": {
    "collapsed": true
   },
   "outputs": [],
   "source": []
  },
  {
   "cell_type": "code",
   "execution_count": null,
   "metadata": {
    "collapsed": true
   },
   "outputs": [],
   "source": []
  }
 ],
 "metadata": {
  "kernelspec": {
   "display_name": "Python 3",
   "language": "python",
   "name": "python3"
  },
  "language_info": {
   "codemirror_mode": {
    "name": "ipython",
    "version": 3
   },
   "file_extension": ".py",
   "mimetype": "text/x-python",
   "name": "python",
   "nbconvert_exporter": "python",
   "pygments_lexer": "ipython3",
   "version": "3.7.1"
  }
 },
 "nbformat": 4,
 "nbformat_minor": 2
}
