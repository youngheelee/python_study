{
 "cells": [
  {
   "cell_type": "markdown",
   "metadata": {
    "collapsed": true
   },
   "source": [
    "## 비트 연산자(Bitwise Operators)\n",
    "- & (Binary AND) : bit 단위로 and연산을 합니다. \n",
    "- | (Binary OR) : bit 단위로 or연산을 합니다. \n",
    "- ^ (Binary XOR) : bit 단위로 xor연산을 합니다. \n",
    "- ~ (Binary NOT) : bit 단위로 not연산을 합니다.(1의 보수) \n",
    "- << (Binary left Shift) : bit 단위로 왼쪽으로 비트단위 밀기 연산을 합니다.\n",
    "- \\>> (Binary right Shift) : bit 단위로 오른쪽으로 비트단위 밀기 연산을 합니다.\n",
    "- 비트 단위로 연산을 수행합니다.\n",
    "- 0은 거짓으로 1은 참으로 연산하여 결과를 1과 0으로 반환합니다.\n",
    "- \"^(xor)\"연산은 두개의 값이 다를 때만 참인 연산입니다.\n",
    "- \" ~(not)\" 연산은 1의 보수를 구합니다. 컴퓨터에서는 뺄셈을 2의 보수를 덧셈하여 처리 합니다.\n",
    "- \"<<\"는 연산은 왼쪽으로 1비트 밀때마다 두 배씩 늘어납니다.\n",
    "- \">>\" 연산은 오른쪽으로 1비트 밀때마다 1/2씩 줄어듭니다.\n",
    "- n << m : n * 2의 m승\n",
    "- n >> m : n / 2의 m승\n"
   ]
  },
  {
   "cell_type": "code",
   "execution_count": 1,
   "metadata": {},
   "outputs": [],
   "source": [
    "# 비트 연산자(Bitwise Operators)\n",
    "a = 0b10101010\n",
    "b = 0b01110011\n",
    "\n",
    "print('a = ',  a, \":\", bin(a))\n",
    "print('b = ',  b, \":\", bin(b))\n",
    "print('a & b = ',  a & b, \":\", bin(a & b))\n",
    "print('a | b = ',  a | b, \":\", bin(a | b))\n",
    "print('a ^ b = ',  a ^ b, \":\", bin(a ^ b))\n",
    "print('~a = ',  ~a, \":\", bin(~a))\n",
    "\n",
    "a = 0b1\n",
    "print(\"\\nstarting << operation of {} \".format(a))\n",
    "print('a = ', a)\n",
    "a = a << 1     # * 2\n",
    "print('a = ', a)\n",
    "a = a << 1    \n",
    "print('a = ', a)\n",
    "a = a << 3     # * 2**3\n",
    "print('a = ', a)\n",
    "a = a << 3    \n",
    "print('a = ', a)\n",
    "a = a << 3    \n",
    "print('a = ', a)\n",
    "\n",
    "print(\"\\nstarting >> operation of {} \".format(a))\n",
    "a = a >> 1    # / 2\n",
    "print('a = ', a)\n",
    "a = a >> 1    \n",
    "print('a = ', a)\n",
    "a = a >> 2    # / 2**2\n",
    "print('a = ', a)\n",
    "a = a >> 3    # / 2**3\n",
    "print('a = ', a)\n"
   ]
  },
  {
   "cell_type": "markdown",
   "metadata": {
    "collapsed": true
   },
   "source": [
    "## Relational operator '==' vs Identity operator 'is'\n",
    "- 'is'는 레퍼런스 체크. 즉, 동일한 오브젝트를 가리키는지 아닌지 검사\n",
    "- '=='는 값 체크"
   ]
  },
  {
   "cell_type": "code",
   "execution_count": 7,
   "metadata": {},
   "outputs": [
    {
     "name": "stdout",
     "output_type": "stream",
     "text": [
      "a == 1  True\n",
      "a is 1  True\n"
     ]
    }
   ],
   "source": [
    "a = 1\n",
    "print( \"a == 1 \", a == 1)\n",
    "print( \"a is 1 \", a is 1)"
   ]
  },
  {
   "cell_type": "code",
   "execution_count": 9,
   "metadata": {},
   "outputs": [
    {
     "name": "stdout",
     "output_type": "stream",
     "text": [
      "a == 365  True\n",
      "a is 365  False\n"
     ]
    }
   ],
   "source": [
    "a = 365\n",
    "print( \"a == 365 \", a == 365)\n",
    "print( \"a is 365 \", a is 365)"
   ]
  },
  {
   "cell_type": "code",
   "execution_count": 11,
   "metadata": {},
   "outputs": [
    {
     "name": "stdout",
     "output_type": "stream",
     "text": [
      "id(a)  4349891696\n",
      "id(1)  4349891696\n"
     ]
    }
   ],
   "source": [
    "a = 1\n",
    "print( \"id(a) \", id(a))\n",
    "print( \"id(1) \", id(1))"
   ]
  },
  {
   "cell_type": "code",
   "execution_count": 10,
   "metadata": {},
   "outputs": [
    {
     "name": "stdout",
     "output_type": "stream",
     "text": [
      "id(a)  4387863504\n",
      "id(1)  4349891696\n"
     ]
    }
   ],
   "source": [
    "a = 365\n",
    "print( \"id(a) \", id(a))\n",
    "print( \"id(1) \", id(1))"
   ]
  },
  {
   "cell_type": "markdown",
   "metadata": {},
   "source": [
    "- 파이썬에서는 객체(object)라는 단위로 메모리 위의 정보를 관리한다\n",
    "- 객체에는 값(value)·유형(type)·정체성(identity)이라는 세 특성이 있다. \n",
    "- 값은 메모리에 기록된 내용이다. 가변 객체는 값이 바뀔 수 있지만 불변 - - 객체는 값이 바뀌지 않는다. \n",
    "- 유형은 데이터의 종류로, 유형에 따라 그 값을 어떻게 읽고 다루어야 할지가 결정된다. \n",
    "- 정체성은 각각의 객체를 식별하기 위한 고유번호로, 객체가 메모리 속에서 위치한 주소 값이기도 하다. \n",
    "- 값과 유형이 동일한 데이터가 데이터가 메모리 공간에 여러 개 존재할 수 있지만, 이들은 서로 별개의 객체이며 정체성이 서로 다르다."
   ]
  },
  {
   "cell_type": "code",
   "execution_count": 23,
   "metadata": {},
   "outputs": [
    {
     "name": "stdout",
     "output_type": "stream",
     "text": [
      "type(a) <class 'int'>\n",
      "type(b) <class 'int'>\n",
      "id(a) 4349891696\n",
      "id(b) 4349891696\n",
      "a == b True\n",
      "a is b True\n",
      "\n",
      "type(a) <class 'int'>\n",
      "type(b) <class 'int'>\n",
      "id(a) 4349891696\n",
      "id(b) 4349891728\n",
      "a == b False\n",
      "a is b False\n",
      "\n",
      "type(a) <class 'int'>\n",
      "type(b) <class 'float'>\n",
      "id(a) 4349891696\n",
      "id(b) 4387903384\n",
      "a == b True\n",
      "a is b False\n",
      "\n",
      "type(a) <class 'int'>\n",
      "type(b) <class 'int'>\n",
      "id(a) 4349891696\n",
      "id(b) 4349891696\n",
      "a == b True\n",
      "a is b True\n"
     ]
    }
   ],
   "source": [
    "a = 1\n",
    "b = 1\n",
    "print(\"type(a)\", type(a))\n",
    "print(\"type(b)\", type(b))\n",
    "print(\"id(a)\", id(a))\n",
    "print(\"id(b)\", id(b))\n",
    "print( \"a == b\", a == b)\n",
    "print( \"a is b\", a is b)\n",
    "\n",
    "b = 2\n",
    "print(\"\\ntype(a)\", type(a))\n",
    "print(\"type(b)\", type(b))\n",
    "print(\"id(a)\", id(a))\n",
    "print(\"id(b)\", id(b))\n",
    "print( \"a == b\", a == b)\n",
    "print( \"a is b\", a is b)\n",
    "\n",
    "b = 1.0\n",
    "print(\"\\ntype(a)\", type(a))\n",
    "print(\"type(b)\", type(b))\n",
    "print(\"id(a)\", id(a))\n",
    "print(\"id(b)\", id(b))\n",
    "print( \"a == b\", a == b)\n",
    "print( \"a is b\", a is b)\n",
    "\n",
    "b = 1\n",
    "print(\"\\ntype(a)\", type(a))\n",
    "print(\"type(b)\", type(b))\n",
    "print(\"id(a)\", id(a))\n",
    "print(\"id(b)\", id(b))\n",
    "print( \"a == b\", a == b)\n",
    "print( \"a is b\", a is b)\n"
   ]
  },
  {
   "cell_type": "markdown",
   "metadata": {},
   "source": [
    "## Copy"
   ]
  },
  {
   "cell_type": "code",
   "execution_count": 32,
   "metadata": {},
   "outputs": [],
   "source": [
    "apple = 'yellow'\n",
    "banana = apple"
   ]
  },
  {
   "cell_type": "code",
   "execution_count": 33,
   "metadata": {},
   "outputs": [],
   "source": [
    "apple = 'red'"
   ]
  },
  {
   "cell_type": "code",
   "execution_count": 34,
   "metadata": {},
   "outputs": [
    {
     "name": "stdout",
     "output_type": "stream",
     "text": [
      "apple :  red\n",
      "banana :  yellow\n"
     ]
    }
   ],
   "source": [
    "print(\"apple : \", apple)\n",
    "print(\"banana : \", banana)"
   ]
  },
  {
   "cell_type": "code",
   "execution_count": 35,
   "metadata": {},
   "outputs": [],
   "source": [
    "foo = [0, 1, 2]\n",
    "bar = foo\n",
    "\n",
    "foo[0] = 9\n"
   ]
  },
  {
   "cell_type": "code",
   "execution_count": 36,
   "metadata": {},
   "outputs": [
    {
     "name": "stdout",
     "output_type": "stream",
     "text": [
      "foo :  [9, 1, 2]\n",
      "bar   [9, 1, 2]\n"
     ]
    }
   ],
   "source": [
    "print(\"foo : \", foo)\n",
    "print(\"bar  \", bar)"
   ]
  },
  {
   "cell_type": "markdown",
   "metadata": {},
   "source": [
    "### 리스트 같은 경우 리스트 자체뿐만 아니라 리스트 내 요소들도 똑같은 주소를 공유합니다. \n",
    "이러한 Copy를 Shallow Copy"
   ]
  },
  {
   "cell_type": "code",
   "execution_count": 50,
   "metadata": {},
   "outputs": [
    {
     "name": "stdout",
     "output_type": "stream",
     "text": [
      "foo, bar\n",
      "id(foo) :  4388553224 \t id(bar) :  4388553224 \tid(foo) == id(bar) :  True\n",
      "\n",
      "foo[0], bar[0]\n",
      "id(foo[0]) :  4349891664 \t id(bar[0]) :  4349891664 \tid(foo[0]) == id(bar[0]) :  True\n",
      "\n",
      "foo[0], bar[0]\n",
      "id(foo[0]) :  4388610288 \t id(bar[0]) :  4388610288 \tid(foo[0]) == id(bar[0]) :  True\n",
      "foo :  [365, 1, 2] \tbar :  [365, 1, 2]\n"
     ]
    }
   ],
   "source": [
    "foo = [0, 1, 2]\n",
    "bar = foo\n",
    "print(\"foo, bar\")\n",
    "print( \"id(foo) : \",id(foo), \"\\t id(bar) : \", id(bar), \"\\tid(foo) == id(bar) : \", id(foo) == id(bar))\n",
    "\n",
    "print(\"\\nfoo[0], bar[0]\")\n",
    "print( \"id(foo[0]) : \",id(foo[0]), \"\\t id(bar[0]) : \", id(bar[0]), \"\\tid(foo[0]) == id(bar[0]) : \", id(foo[0]) == id(bar[0]))\n",
    "\n",
    "foo[0] = 365\n",
    "\n",
    "print(\"\\nfoo[0], bar[0]\")\n",
    "print( \"id(foo[0]) : \",id(foo[0]), \"\\t id(bar[0]) : \", id(bar[0]), \"\\tid(foo[0]) == id(bar[0]) : \", id(foo[0]) == id(bar[0]))\n",
    "\n",
    "print(\"foo : \", foo, \"\\tbar : \", bar)"
   ]
  },
  {
   "cell_type": "markdown",
   "metadata": {},
   "source": [
    "### Deep Copy(깊은 복사)를 이용한 문제 해결"
   ]
  },
  {
   "cell_type": "code",
   "execution_count": 54,
   "metadata": {},
   "outputs": [
    {
     "name": "stdout",
     "output_type": "stream",
     "text": [
      "foo, bar\n",
      "id(foo) :  [365, 1, 2] \t id(bar) :  [0, 1, 2] \tid(foo) == id(bar) :  False\n"
     ]
    }
   ],
   "source": [
    "import copy\n",
    "foo = [0, 1, 2]\n",
    "bar = copy.deepcopy(foo)\n",
    "foo[0] = 365\n",
    "\n",
    "print(\"foo, bar\")\n",
    "print( \"id(foo) : \",foo, \"\\t id(bar) : \", bar, \"\\tid(foo) == id(bar) : \", id(foo) == id(bar))\n"
   ]
  },
  {
   "cell_type": "code",
   "execution_count": 59,
   "metadata": {},
   "outputs": [
    {
     "name": "stdout",
     "output_type": "stream",
     "text": [
      "\n",
      "foo[0], bar[0]\n",
      "id(foo[0]) :  4388610192 \t id(bar[0]) :  4349891664 \tid(foo[0]) == id(bar[0]) :  False\n"
     ]
    }
   ],
   "source": [
    "print(\"\\nfoo[0], bar[0]\")\n",
    "print( \"id(foo[0]) : \",id(foo[0]), \"\\t id(bar[0]) : \", id(bar[0]), \"\\tid(foo[0]) == id(bar[0]) : \", id(foo[0]) == id(bar[0]))\n"
   ]
  }
 ],
 "metadata": {
  "kernelspec": {
   "display_name": "Python 3",
   "language": "python",
   "name": "python3"
  },
  "language_info": {
   "codemirror_mode": {
    "name": "ipython",
    "version": 3
   },
   "file_extension": ".py",
   "mimetype": "text/x-python",
   "name": "python",
   "nbconvert_exporter": "python",
   "pygments_lexer": "ipython3",
   "version": "3.7.1"
  }
 },
 "nbformat": 4,
 "nbformat_minor": 2
}
